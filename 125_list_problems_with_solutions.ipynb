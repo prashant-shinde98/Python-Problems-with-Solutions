{
 "cells": [
  {
   "cell_type": "markdown",
   "id": "36008529",
   "metadata": {},
   "source": [
    "#This File Contains 125 Problems With Solutions on LIST"
   ]
  },
  {
   "cell_type": "code",
   "execution_count": 1,
   "id": "5b6e0f1e-642c-40de-af2f-2e2272955fd5",
   "metadata": {},
   "outputs": [
    {
     "name": "stdout",
     "output_type": "stream",
     "text": [
      "[5, 2, 3, 4, 1]\n"
     ]
    }
   ],
   "source": [
    "#1 interchange first and last elements in a list\n",
    "L = [1,2,3,4,5]\n",
    "L[0],L[-1] = L[-1], L[0]\n",
    "print(L)"
   ]
  },
  {
   "cell_type": "code",
   "execution_count": 3,
   "id": "32cad473-b9bd-480e-b1bf-f2ba4b7e401d",
   "metadata": {},
   "outputs": [
    {
     "name": "stdout",
     "output_type": "stream",
     "text": [
      "No of chars in a list:  5\n"
     ]
    }
   ],
   "source": [
    "#2 How To Find the Length of a List in Python\n",
    "counter = 0\n",
    "for i in L:\n",
    "    counter = counter + 1 \n",
    "\n",
    "print('No of chars in a list: ' ,counter)"
   ]
  },
  {
   "cell_type": "code",
   "execution_count": 5,
   "id": "1c6359b5",
   "metadata": {},
   "outputs": [
    {
     "name": "stdout",
     "output_type": "stream",
     "text": [
      "[['apple', 'orange'], ['banana', 'grape'], ['kiwi', 'mango']]\n"
     ]
    }
   ],
   "source": [
    "#3 spliting list\n",
    "string_list = [\"apple,orange\", \"banana,grape\", \"kiwi,mango\"]\n",
    "split_list = [i.split(',') for i in string_list]\n",
    "print(split_list)"
   ]
  },
  {
   "cell_type": "code",
   "execution_count": 13,
   "id": "9fe53232",
   "metadata": {},
   "outputs": [
    {
     "name": "stdout",
     "output_type": "stream",
     "text": [
      "[[1], ['1'], [1], [2], [3.6], [3, 3], [4], [5, 5]]\n"
     ]
    }
   ],
   "source": [
    "# 4\n",
    "from itertools import groupby\n",
    "\n",
    "original_list = [1,'1', 1, 2, 3.6, 3, 3, 4, 5, 5]\n",
    "split_list = [list(group) for key, group in groupby(original_list)]\n",
    "print(split_list)"
   ]
  },
  {
   "cell_type": "markdown",
   "id": "d0c17d5f",
   "metadata": {
    "slideshow": {
     "slide_type": "slide"
    }
   },
   "source": [
    "4 Get last element of each sublist"
   ]
  },
  {
   "cell_type": "code",
   "execution_count": 42,
   "id": "06e01889",
   "metadata": {},
   "outputs": [
    {
     "data": {
      "text/plain": [
       "[3, 6, 9]"
      ]
     },
     "execution_count": 42,
     "metadata": {},
     "output_type": "execute_result"
    }
   ],
   "source": [
    "#5 Using for loop\n",
    "Input = [[1, 2, 3], [4, 5, 6], [7, 8, 9]]\n",
    "def last_ele(n):\n",
    "    result = []\n",
    "    for i in n:\n",
    "        \n",
    "        result.append(i[-1])\n",
    "    return result\n",
    "\n",
    "last_ele(Input)"
   ]
  },
  {
   "cell_type": "code",
   "execution_count": 30,
   "id": "11cfaa75",
   "metadata": {},
   "outputs": [
    {
     "data": {
      "text/plain": [
       "(3, 6, 9)"
      ]
     },
     "execution_count": 30,
     "metadata": {},
     "output_type": "execute_result"
    }
   ],
   "source": [
    "#6 using zip and unpacking(*)\n",
    "lst = [[1,2,3], [4,5,6], [7,8,9]]\n",
    "list(zip(*[(el) for el in lst]))[-1]\n"
   ]
  },
  {
   "cell_type": "code",
   "execution_count": 50,
   "id": "d7a13cef",
   "metadata": {},
   "outputs": [
    {
     "data": {
      "text/plain": [
       "(3, 6, 9)"
      ]
     },
     "execution_count": 50,
     "metadata": {},
     "output_type": "execute_result"
    }
   ],
   "source": [
    "7\n",
    "lst = [[1,2,3], [4,5,6], [7,8,9]]\n",
    "list(zip(*[i for i in lst]))[-1]"
   ]
  },
  {
   "cell_type": "code",
   "execution_count": 56,
   "id": "efb155c0",
   "metadata": {},
   "outputs": [
    {
     "data": {
      "text/plain": [
       "(3, 6, 9)"
      ]
     },
     "execution_count": 56,
     "metadata": {},
     "output_type": "execute_result"
    }
   ],
   "source": [
    "#8 using map\n",
    "list(zip(*map(reversed, lst)))[0]"
   ]
  },
  {
   "cell_type": "code",
   "execution_count": 59,
   "id": "4e8fdaf2",
   "metadata": {},
   "outputs": [
    {
     "data": {
      "text/plain": [
       "[3, 6, 9]"
      ]
     },
     "execution_count": 59,
     "metadata": {},
     "output_type": "execute_result"
    }
   ],
   "source": [
    "#9 using itemgetter\n",
    "from operator import itemgetter\n",
    "\n",
    "list(map(itemgetter(-1), lst))"
   ]
  },
  {
   "cell_type": "code",
   "execution_count": 62,
   "id": "79b22853",
   "metadata": {},
   "outputs": [
    {
     "data": {
      "text/plain": [
       "(3, 6, 9)"
      ]
     },
     "execution_count": 62,
     "metadata": {},
     "output_type": "execute_result"
    }
   ],
   "source": [
    "#10 apply zip on nested list directly\n",
    "(list(zip(*lst))[-1])"
   ]
  },
  {
   "cell_type": "markdown",
   "id": "d7f70770",
   "metadata": {},
   "source": [
    "5 Getting sublist element till N"
   ]
  },
  {
   "cell_type": "code",
   "execution_count": 66,
   "id": "c824bda1",
   "metadata": {},
   "outputs": [
    {
     "name": "stdout",
     "output_type": "stream",
     "text": [
      "['a', 'b', 'c', 'd']\n"
     ]
    }
   ],
   "source": [
    "#11 using for loop\n",
    "list1 = [['a', 12], ['b', 34], ['c', 56], ['d', 78], ['e', 22]]\n",
    "n = 4\n",
    "res = []\n",
    "for i in list1[:n]:\n",
    "    res.append(i[0])\n",
    "\n",
    "print(res)"
   ]
  },
  {
   "cell_type": "code",
   "execution_count": 69,
   "id": "4a44862b",
   "metadata": {},
   "outputs": [
    {
     "name": "stdout",
     "output_type": "stream",
     "text": [
      "['a', 'b', 'c', 'd']\n"
     ]
    }
   ],
   "source": [
    "#12 Using list comprehension and slicing\n",
    "n = 4\n",
    "res = [i[0] for i in list1[: n]]\n",
    "print(res)"
   ]
  },
  {
   "cell_type": "code",
   "execution_count": 68,
   "id": "e57e5fa6",
   "metadata": {},
   "outputs": [
    {
     "name": "stdout",
     "output_type": "stream",
     "text": [
      "['a', 'b', 'c', 'd']\n"
     ]
    }
   ],
   "source": [
    "#13  map, itemgetter, islice\n",
    "from operator import itemgetter\n",
    "from itertools import islice\n",
    "\n",
    "res = list(map(itemgetter(0), islice(list1, 0, n)))\n",
    "print(res)"
   ]
  },
  {
   "cell_type": "markdown",
   "id": "df0e5725",
   "metadata": {},
   "source": [
    "6- geting length of list"
   ]
  },
  {
   "cell_type": "code",
   "execution_count": 1,
   "id": "292e2e3a",
   "metadata": {},
   "outputs": [
    {
     "name": "stdout",
     "output_type": "stream",
     "text": [
      "length of list is:  6\n"
     ]
    }
   ],
   "source": [
    "#14 Using length funct\n",
    "L = [1,2,3,4,5,6]\n",
    "print('length of list is: ', len(L))"
   ]
  },
  {
   "cell_type": "code",
   "execution_count": 2,
   "id": "f722bbc4",
   "metadata": {},
   "outputs": [
    {
     "name": "stdout",
     "output_type": "stream",
     "text": [
      "length of list:  6\n"
     ]
    }
   ],
   "source": [
    "#15 using for loop\n",
    "counter = 0\n",
    "for i in L:\n",
    "    counter = counter + 1\n",
    "\n",
    "print('length of list: ', counter)"
   ]
  },
  {
   "cell_type": "code",
   "execution_count": 5,
   "id": "cd03feaf",
   "metadata": {},
   "outputs": [
    {
     "name": "stdout",
     "output_type": "stream",
     "text": [
      "length of list:  6\n"
     ]
    }
   ],
   "source": [
    "#16 using comprehension\n",
    "a = sum([1 for i in L])\n",
    "print('length of list: ', a)"
   ]
  },
  {
   "cell_type": "markdown",
   "id": "ffe3c4d6",
   "metadata": {},
   "source": [
    "7- factorial"
   ]
  },
  {
   "cell_type": "code",
   "execution_count": 16,
   "id": "a15cbfb7",
   "metadata": {},
   "outputs": [
    {
     "data": {
      "text/plain": [
       "720"
      ]
     },
     "execution_count": 16,
     "metadata": {},
     "output_type": "execute_result"
    }
   ],
   "source": [
    "#17 using for loop\n",
    "n = 6\n",
    "res = 1\n",
    "for i in range(1, n+1):\n",
    "    res *= i\n",
    "res"
   ]
  },
  {
   "cell_type": "code",
   "execution_count": 20,
   "id": "27611bf1",
   "metadata": {},
   "outputs": [
    {
     "data": {
      "text/plain": [
       "720"
      ]
     },
     "execution_count": 20,
     "metadata": {},
     "output_type": "execute_result"
    }
   ],
   "source": [
    "#18 using funct\n",
    "def fact(n):\n",
    "    return 1 if n == 1 or n ==0 else (n* fact(n-1))\n",
    "fact(6)"
   ]
  },
  {
   "cell_type": "markdown",
   "id": "f1e43298",
   "metadata": {},
   "source": [
    "8- item present in list"
   ]
  },
  {
   "cell_type": "code",
   "execution_count": 21,
   "id": "7cd158f5",
   "metadata": {},
   "outputs": [
    {
     "name": "stdout",
     "output_type": "stream",
     "text": [
      "present\n"
     ]
    }
   ],
   "source": [
    "#19 using in\n",
    "L = [11,22,33,44,55,66,77]\n",
    "if 22 in L:\n",
    "    print('present')\n",
    "else:\n",
    "    print('absent')"
   ]
  },
  {
   "cell_type": "code",
   "execution_count": 22,
   "id": "fc9d61b6",
   "metadata": {},
   "outputs": [
    {
     "name": "stdout",
     "output_type": "stream",
     "text": [
      "present\n"
     ]
    }
   ],
   "source": [
    "#20 using for loop\n",
    "for i in L:\n",
    "    if i == 22:\n",
    "        print('present')"
   ]
  },
  {
   "cell_type": "code",
   "execution_count": 23,
   "id": "ec72287a",
   "metadata": {},
   "outputs": [
    {
     "name": "stdout",
     "output_type": "stream",
     "text": [
      "present\n"
     ]
    }
   ],
   "source": [
    "# 21 \n",
    "if L.count(22) > 0:\n",
    "    print('present')"
   ]
  },
  {
   "cell_type": "markdown",
   "id": "3f02062a",
   "metadata": {},
   "source": [
    "9 Accesing items for list"
   ]
  },
  {
   "cell_type": "code",
   "execution_count": 25,
   "id": "4be2963b",
   "metadata": {},
   "outputs": [
    {
     "data": {
      "text/plain": [
       "[22, 44, 66]"
      ]
     },
     "execution_count": 25,
     "metadata": {},
     "output_type": "execute_result"
    }
   ],
   "source": [
    "# 22 \n",
    "List1 = [11,22,33,44,55,66,77,88]\n",
    "index_list = [1,3,5]\n",
    "\n",
    "# using for loop\n",
    "res = []\n",
    "for i in index_list:\n",
    "    res.append(List1[i])\n",
    "\n",
    "res"
   ]
  },
  {
   "cell_type": "code",
   "execution_count": 27,
   "id": "9e900c6c",
   "metadata": {},
   "outputs": [
    {
     "data": {
      "text/plain": [
       "[22, 44, 66]"
      ]
     },
     "execution_count": 27,
     "metadata": {},
     "output_type": "execute_result"
    }
   ],
   "source": [
    "#23 using map and getitem\n",
    "res = list(map(List1.__getitem__, index_list))\n",
    "res"
   ]
  },
  {
   "cell_type": "code",
   "execution_count": 35,
   "id": "e09ee02f",
   "metadata": {},
   "outputs": [
    {
     "data": {
      "text/plain": [
       "(22, 44, 66)"
      ]
     },
     "execution_count": 35,
     "metadata": {},
     "output_type": "execute_result"
    }
   ],
   "source": [
    "#24 using itemgetter\n",
    "from operator import itemgetter\n",
    "res = itemgetter(*index_list)(List1)\n",
    "res\n",
    "    "
   ]
  },
  {
   "cell_type": "markdown",
   "id": "c7cb1504",
   "metadata": {},
   "source": [
    "10 iterate over multiple list"
   ]
  },
  {
   "cell_type": "code",
   "execution_count": 3,
   "id": "bf34388c",
   "metadata": {},
   "outputs": [],
   "source": [
    "# 25\n",
    "num = [1, 2, 3]\n",
    "color = ['red', 'while', 'black']\n",
    "value = [255, 256]"
   ]
  },
  {
   "cell_type": "code",
   "execution_count": 4,
   "id": "8d841837",
   "metadata": {},
   "outputs": [
    {
     "name": "stdout",
     "output_type": "stream",
     "text": [
      "1 red 255\n",
      "2 while 256\n"
     ]
    }
   ],
   "source": [
    "#26 using for loop (cant use for dissimilars items in list)\n",
    "for i, j,k in zip(num,color,value):\n",
    "    print(i,j,k)"
   ]
  },
  {
   "cell_type": "code",
   "execution_count": 12,
   "id": "b060a219",
   "metadata": {},
   "outputs": [
    {
     "name": "stdout",
     "output_type": "stream",
     "text": [
      "1 red 255\n",
      "2 white 256\n",
      "3 black N/A\n"
     ]
    }
   ],
   "source": [
    "#27 this also work for same size lists\n",
    "from itertools import zip_longest\n",
    "for i, j ,k in zip_longest(num, color, value, fillvalue='N/A'):        \n",
    "    print(i,j,k)"
   ]
  },
  {
   "cell_type": "code",
   "execution_count": 50,
   "id": "c80f980f",
   "metadata": {},
   "outputs": [
    {
     "name": "stdout",
     "output_type": "stream",
     "text": [
      "1 red 255\n",
      "2 while 256\n"
     ]
    }
   ],
   "source": [
    "#28 using zip   (till smallest)\n",
    "for a, b, c in  zip(num, color, value):\n",
    "    print(a,b,c)"
   ]
  },
  {
   "cell_type": "code",
   "execution_count": 54,
   "id": "703d774a",
   "metadata": {},
   "outputs": [
    {
     "name": "stdout",
     "output_type": "stream",
     "text": [
      "1 red 255\n",
      "2 while 256\n",
      "3 black None\n"
     ]
    }
   ],
   "source": [
    "#29 using zip_longest     (gave none value for empty to avoid error)\n",
    "import itertools\n",
    "\n",
    "for a,b,c in itertools.zip_longest(num, color, value):\n",
    "    print(a,b,c)\n"
   ]
  },
  {
   "cell_type": "code",
   "execution_count": 56,
   "id": "4a9f671d",
   "metadata": {},
   "outputs": [
    {
     "name": "stdout",
     "output_type": "stream",
     "text": [
      "1 red 255\n",
      "2 while 256\n",
      "3 black -1\n"
     ]
    }
   ],
   "source": [
    "#30 we can appoint specific value in none position\n",
    "for a,b,c in itertools.zip_longest(num, color, value, fillvalue= -1):\n",
    "    print(a,b,c)"
   ]
  },
  {
   "cell_type": "markdown",
   "id": "0d021856",
   "metadata": {},
   "source": [
    "11  Iterate on nested list"
   ]
  },
  {
   "cell_type": "code",
   "execution_count": 57,
   "id": "d38d6d0a",
   "metadata": {},
   "outputs": [],
   "source": [
    "list = [[\"Rohan\", 60], [\"Aviral\", 21],  \n",
    "        [\"Harsh\", 30], [\"Rahul\", 40], \n",
    "        [\"Raj\", 20]] "
   ]
  },
  {
   "cell_type": "code",
   "execution_count": 58,
   "id": "26284e7a",
   "metadata": {},
   "outputs": [
    {
     "name": "stdout",
     "output_type": "stream",
     "text": [
      "Rohan is 60 years old\n",
      "Aviral is 21 years old\n",
      "Harsh is 30 years old\n",
      "Rahul is 40 years old\n",
      "Raj is 20 years old\n"
     ]
    }
   ],
   "source": [
    "# 31\n",
    "for i in list:\n",
    "    print(i[0], 'is', i[1], 'years old')"
   ]
  },
  {
   "cell_type": "code",
   "execution_count": 61,
   "id": "f15527e6",
   "metadata": {},
   "outputs": [
    {
     "name": "stdout",
     "output_type": "stream",
     "text": [
      "Rohan is 60 years old\n",
      "Aviral is 21 years old\n",
      "Harsh is 30 years old\n",
      "Rahul is 40 years old\n",
      "Raj is 20 years old\n"
     ]
    }
   ],
   "source": [
    "# 32\n",
    "for i, j in list:\n",
    "    print(i, 'is', j, 'years old')"
   ]
  },
  {
   "cell_type": "markdown",
   "id": "f114140f",
   "metadata": {},
   "source": [
    "finding indices of items in list"
   ]
  },
  {
   "cell_type": "code",
   "execution_count": 3,
   "id": "c9b96be0",
   "metadata": {},
   "outputs": [
    {
     "data": {
      "text/plain": [
       "[1, 5]"
      ]
     },
     "execution_count": 3,
     "metadata": {},
     "output_type": "execute_result"
    }
   ],
   "source": [
    "#33 naive method\n",
    "L = [1,3,4,5,6,3,2]\n",
    "res = []\n",
    "for i in range(len(L)):\n",
    "    if L[i] == 3:\n",
    "        res.append(i)\n",
    "res"
   ]
  },
  {
   "cell_type": "code",
   "execution_count": 4,
   "id": "6c34ff7e",
   "metadata": {},
   "outputs": [
    {
     "data": {
      "text/plain": [
       "[1, 5]"
      ]
     },
     "execution_count": 4,
     "metadata": {},
     "output_type": "execute_result"
    }
   ],
   "source": [
    "#34 using comprehension\n",
    "res = [i for i in range(len(L)) if L[i] == 3]\n",
    "res"
   ]
  },
  {
   "cell_type": "code",
   "execution_count": 18,
   "id": "e8a2afe6",
   "metadata": {},
   "outputs": [
    {
     "data": {
      "text/plain": [
       "[1, 5]"
      ]
     },
     "execution_count": 18,
     "metadata": {},
     "output_type": "execute_result"
    }
   ],
   "source": [
    "#35 enumerate\n",
    "res = [i for i, value in enumerate(L) if value == 3]\n",
    "res"
   ]
  },
  {
   "cell_type": "code",
   "execution_count": 22,
   "id": "e3fe8764",
   "metadata": {},
   "outputs": [
    {
     "data": {
      "text/plain": [
       "[1, 5]"
      ]
     },
     "execution_count": 22,
     "metadata": {},
     "output_type": "execute_result"
    }
   ],
   "source": [
    "#36 filter\n",
    "res = list(filter(lambda x: L[x] == 3, range(len(L))))\n",
    "res"
   ]
  },
  {
   "cell_type": "code",
   "execution_count": 4,
   "id": "e6ab1350",
   "metadata": {},
   "outputs": [
    {
     "data": {
      "text/plain": [
       "array([1, 5], dtype=int64)"
      ]
     },
     "execution_count": 4,
     "metadata": {},
     "output_type": "execute_result"
    }
   ],
   "source": [
    "#37 numpy\n",
    "import numpy as np\n",
    "L1 = np.array(L)\n",
    "res = np.where(L1 == 3)[0]\n",
    "res"
   ]
  },
  {
   "cell_type": "code",
   "execution_count": 6,
   "id": "36a2f7ec",
   "metadata": {},
   "outputs": [
    {
     "data": {
      "text/plain": [
       "2"
      ]
     },
     "execution_count": 6,
     "metadata": {},
     "output_type": "execute_result"
    }
   ],
   "source": [
    "#38 Write a Python program to count the number of strings from a given list of strings.\n",
    "#  The string length is 2 or more and the first and last characters are the same.\n",
    "# Sample List : ['abc', 'xyz', 'aba', '1221']\n",
    "# Expected Result : 2\n",
    "\n",
    "L_1 = ['abc', 'xyz', 'aba', '1221']\n",
    "\n",
    "def temp(n):\n",
    "    count = 0\n",
    "    for i in n:\n",
    "        if len(i) > 2 and i[0] == i[-1]:\n",
    "            count = count + 1\n",
    "    return count\n",
    "\n",
    "temp(L_1)"
   ]
  },
  {
   "cell_type": "code",
   "execution_count": 7,
   "id": "ab790431",
   "metadata": {},
   "outputs": [
    {
     "data": {
      "text/plain": [
       "2"
      ]
     },
     "execution_count": 7,
     "metadata": {},
     "output_type": "execute_result"
    }
   ],
   "source": [
    "# 39\n",
    "def temp1(n):\n",
    "    count = [i for i in n if len(i) > 2 and i[0] == i[-1]]\n",
    "    return len(count)\n",
    "\n",
    "temp1(L_1)"
   ]
  },
  {
   "cell_type": "code",
   "execution_count": 1,
   "id": "f86acae9",
   "metadata": {},
   "outputs": [
    {
     "data": {
      "text/plain": [
       "[(2, 1), (1, 2), (2, 3), (4, 4), (2, 5)]"
      ]
     },
     "execution_count": 1,
     "metadata": {},
     "output_type": "execute_result"
    }
   ],
   "source": [
    "#40 Write a Python program to get a list, sorted in increasing order by the last element in each tuple from a given list of non-empty tuples.\n",
    "# Sample List : [(2, 5), (1, 2), (4, 4), (2, 3), (2, 1)]\n",
    "# Expected Result : [(2, 1), (1, 2), (2, 3), (4, 4), (2, 5)]\n",
    "\n",
    "L = [(2, 5), (1, 2), (4, 4), (2, 3), (2, 1)]\n",
    "\n",
    "sorted(L, key=lambda x:x[1])"
   ]
  },
  {
   "cell_type": "code",
   "execution_count": 16,
   "id": "119175d1",
   "metadata": {},
   "outputs": [
    {
     "name": "stdout",
     "output_type": "stream",
     "text": [
      "60\n",
      "60\n"
     ]
    }
   ],
   "source": [
    "#41. Write a Python program to sum all the items in a list.\n",
    "l =[10,20,30]\n",
    "l2=sum(l)\n",
    "print(l2)\n",
    "\n",
    "# 42\n",
    "res = 0\n",
    "for i in l:\n",
    "    res += i\n",
    "print(res)"
   ]
  },
  {
   "cell_type": "code",
   "execution_count": 18,
   "id": "9f22bbd2",
   "metadata": {},
   "outputs": [
    {
     "name": "stdout",
     "output_type": "stream",
     "text": [
      "6000\n",
      "6000\n"
     ]
    }
   ],
   "source": [
    "#43. Write a Python program to multiplies all the items in a list.\n",
    "l =[10,20,30]\n",
    "import math\n",
    "l2= math.prod(l)\n",
    "print(l2)\n",
    "\n",
    "# 44\n",
    "product=1\n",
    "for i in l:\n",
    "  product = i*product\n",
    "print(product)"
   ]
  },
  {
   "cell_type": "code",
   "execution_count": 25,
   "id": "77b0c4df",
   "metadata": {},
   "outputs": [
    {
     "name": "stdout",
     "output_type": "stream",
     "text": [
      "30\n"
     ]
    }
   ],
   "source": [
    "#45. Write a Python program to get the largest number from a list.\n",
    "l =[10,20,30]\n",
    "l2 = max(l)\n",
    "l2\n",
    "l =[10,20,30]\n",
    "l2=sorted(l)[-1]\n",
    "print(l2)"
   ]
  },
  {
   "cell_type": "code",
   "execution_count": 13,
   "id": "f7825dfa",
   "metadata": {},
   "outputs": [
    {
     "name": "stdout",
     "output_type": "stream",
     "text": [
      "10\n"
     ]
    }
   ],
   "source": [
    "#46. Write a Python program to get the smallest number from a list.\n",
    "l =[10,20,30]\n",
    "l2=sorted(l,reverse=True)[-1]\n",
    "print(l2)"
   ]
  },
  {
   "cell_type": "code",
   "execution_count": 24,
   "id": "33d537fa",
   "metadata": {},
   "outputs": [
    {
     "data": {
      "text/plain": [
       "2"
      ]
     },
     "execution_count": 24,
     "metadata": {},
     "output_type": "execute_result"
    }
   ],
   "source": [
    "\"\"\"\n",
    "47. Write a Python program to count the number of strings where the string length\n",
    "is 2 or more and the first and last character are same from a given list of strings.\n",
    "Sample List : ['abc', 'xyz', 'aba', '1221']\n",
    "Expected Result : 2\n",
    "\"\"\"\n",
    "l=['abc', 'xyz', 'aba', '1221']\n",
    "result = []\n",
    "for i in l:\n",
    "  if i[0]==i[-1]:\n",
    "    result.append(i)\n",
    "len(result)"
   ]
  },
  {
   "cell_type": "code",
   "execution_count": 23,
   "id": "70b50053",
   "metadata": {},
   "outputs": [
    {
     "name": "stdout",
     "output_type": "stream",
     "text": [
      "[(2, 1), (1, 2), (2, 3), (4, 4), (2, 5)]\n"
     ]
    }
   ],
   "source": [
    "\"\"\"\n",
    "48. Write a Python program to get a list, sorted in increasing order by the last\n",
    "element in each tuple from a given list of non-empty tuples.\n",
    "Sample List : [(2, 5), (1, 2), (4, 4), (2, 3), (2, 1)]\n",
    "Expected Result : [(2, 1), (1, 2), (2, 3), (4, 4), (2, 5)]\n",
    "\"\"\"\n",
    "sample_list = [(2, 5), (1, 2), (4, 4), (2, 3), (2, 1)]\n",
    "sorted_list = sorted(sample_list, key=lambda x: x[-1])\n",
    "print(sorted_list)"
   ]
  },
  {
   "cell_type": "code",
   "execution_count": 19,
   "id": "d7aabc69",
   "metadata": {},
   "outputs": [
    {
     "name": "stdout",
     "output_type": "stream",
     "text": [
      "[25, 10, 85, 30]\n",
      "[10, 25, 30, 85]\n"
     ]
    }
   ],
   "source": [
    "#48. Write a Python program to remove duplicates from a list.\n",
    "l = [10,10,25,30,25,25,85]\n",
    "l2 = set(l)\n",
    "print(list(l2))\n",
    "\n",
    "# 49\n",
    "res = []\n",
    "for i in l:\n",
    "    if i in res:\n",
    "        continue\n",
    "    else:\n",
    "        res.append(i)\n",
    "print(res)"
   ]
  },
  {
   "cell_type": "code",
   "execution_count": 21,
   "id": "0939a27a",
   "metadata": {},
   "outputs": [
    {
     "name": "stdout",
     "output_type": "stream",
     "text": [
      "not empty\n"
     ]
    }
   ],
   "source": [
    "#50. Write a Python program to check a list is empty or not.\n",
    "l2=[10,20]\n",
    "if len(l2)==0:\n",
    "  print(\"empty list\")\n",
    "else:\n",
    "  print(\"not empty\")"
   ]
  },
  {
   "cell_type": "code",
   "execution_count": 22,
   "id": "7a3266f8",
   "metadata": {},
   "outputs": [
    {
     "name": "stdout",
     "output_type": "stream",
     "text": [
      "[10, 20, 30, 40]\n"
     ]
    }
   ],
   "source": [
    "#51. Write a Python program to clone or copy a list.\n",
    "l=[10,20,30,40]\n",
    "l1=[]\n",
    "for i in l:\n",
    "  l1.append(i)\n",
    "print(l1)"
   ]
  },
  {
   "cell_type": "code",
   "execution_count": 26,
   "id": "e9da4c65",
   "metadata": {},
   "outputs": [
    {
     "name": "stdout",
     "output_type": "stream",
     "text": [
      "['prashant', 'rohan', 'abhilasha']\n"
     ]
    }
   ],
   "source": [
    "#52. Write a Python program to find the list of words that are longer than n from a given list of words.\n",
    "l=[\"prashant\",'rohan','abhilasha','ram']\n",
    "l2=[]\n",
    "for i in l:\n",
    "  if len(i)>4:\n",
    "    l2.append(i)\n",
    "print(l2)"
   ]
  },
  {
   "cell_type": "code",
   "execution_count": 27,
   "id": "232b5992",
   "metadata": {},
   "outputs": [
    {
     "data": {
      "text/plain": [
       "True"
      ]
     },
     "execution_count": 27,
     "metadata": {},
     "output_type": "execute_result"
    }
   ],
   "source": [
    "#53. Write a Python function that takes two lists and returns True if they have at least one common member.\n",
    "l1 = [10,20,30,40,50]\n",
    "l2 = [10,60,70,80,90]\n",
    "def sample(l1,l2):\n",
    "  for i in l1:\n",
    "    for j in l2:\n",
    "      if i == j:\n",
    "        return(True)\n",
    "      else:\n",
    "        return(False)\n",
    "sample(l1,l2)"
   ]
  },
  {
   "cell_type": "code",
   "execution_count": 28,
   "id": "89b8e0ba",
   "metadata": {},
   "outputs": [
    {
     "name": "stdout",
     "output_type": "stream",
     "text": [
      "Modified List: ['Green', 'White', 'Black']\n"
     ]
    }
   ],
   "source": [
    "\"\"\"\n",
    "54. Write a Python program to print a specified list after removing the 0th, 4th\n",
    "and 5th elements.\n",
    "Sample List : ['Red', 'Green', 'White', 'Black', 'Pink', 'Yellow']\n",
    "Expected Output : ['Green', 'White', 'Black']\n",
    "\"\"\"\n",
    "\n",
    "# Sample list\n",
    "sample_list = ['Red', 'Green', 'White', 'Black', 'Pink', 'Yellow']\n",
    "\n",
    "# Removing the 0th, 4th, and 5th elements\n",
    "modified_list = [item for index, item in enumerate(sample_list) if index not in (0, 4, 5)]\n",
    "\n",
    "# Printing the result\n",
    "print(\"Modified List:\", modified_list)"
   ]
  },
  {
   "cell_type": "code",
   "execution_count": 29,
   "id": "eb41030f",
   "metadata": {},
   "outputs": [
    {
     "name": "stdout",
     "output_type": "stream",
     "text": [
      "[3, 5, 13, 15, 11]\n"
     ]
    }
   ],
   "source": [
    "#55. Write a Python program to print the numbers of a specified list after removing even numbers from it.\n",
    "l = [10,3,5,6,13,15,12,11,14]\n",
    "l1 =[]\n",
    "for i in l:\n",
    "  if i % 2 != 0:\n",
    "    l1.append(i)\n",
    "print(l1)"
   ]
  },
  {
   "cell_type": "code",
   "execution_count": 30,
   "id": "2158c0d2",
   "metadata": {},
   "outputs": [
    {
     "data": {
      "text/plain": [
       "[4, 1, 1, 0, 3, 2, 5, 5]"
      ]
     },
     "execution_count": 30,
     "metadata": {},
     "output_type": "execute_result"
    }
   ],
   "source": [
    "#56. Write a Python program to shuffle and print a specified list.\n",
    "import random\n",
    "s = [0,1,1,2,3,5,4,5]\n",
    "random.shuffle(s)\n",
    "s"
   ]
  },
  {
   "cell_type": "code",
   "execution_count": 31,
   "id": "b6d83227",
   "metadata": {},
   "outputs": [
    {
     "name": "stdout",
     "output_type": "stream",
     "text": [
      "[1, 4, 9, 16, 25]\n",
      "[676, 729, 784, 841, 900]\n"
     ]
    }
   ],
   "source": [
    "\"\"\"\n",
    "57. Write a Python program to generate and print a list of first and last 5\n",
    "elements where the values are square of numbers between 1 and 30 (both\n",
    "included).\n",
    "\"\"\"\n",
    "\n",
    "def values():\n",
    "  l =[]\n",
    "  for i in range (1,31):\n",
    "    l.append(i**2)\n",
    "  print(l[:5])\n",
    "  print(l[-5:])\n",
    "values()"
   ]
  },
  {
   "cell_type": "code",
   "execution_count": 32,
   "id": "b9eee220",
   "metadata": {},
   "outputs": [
    {
     "name": "stdout",
     "output_type": "stream",
     "text": [
      "[36, 49, 64, 81, 100, 121, 144, 169, 196, 225, 256, 289, 324, 361, 400, 441, 484, 529, 576, 625, 676, 729, 784, 841, 900]\n"
     ]
    }
   ],
   "source": [
    "\"\"\"\n",
    "58. Write a Python program to generate and print a list except for the first 5\n",
    "elements, where the values are square of numbers between 1 and 30 (both\n",
    "included).\n",
    "\"\"\"\n",
    "def values():\n",
    "  l=[]\n",
    "  for i in range(1,31):\n",
    "    l.append(i**2)\n",
    "  print(l[5:])\n",
    "values()"
   ]
  },
  {
   "cell_type": "code",
   "execution_count": 33,
   "id": "bc1b52f0",
   "metadata": {},
   "outputs": [
    {
     "name": "stdout",
     "output_type": "stream",
     "text": [
      "[(1, 2, 3), (1, 3, 2), (2, 1, 3), (2, 3, 1), (3, 1, 2), (3, 2, 1)]\n"
     ]
    }
   ],
   "source": [
    "#59. Write a Python program to generate all permutations of a list in Python.\n",
    "import itertools\n",
    "print(list(itertools.permutations([1,2,3])))"
   ]
  },
  {
   "cell_type": "code",
   "execution_count": 54,
   "id": "259ef1cb",
   "metadata": {},
   "outputs": [
    {
     "data": {
      "text/plain": [
       "[[1, 2, 3], [1, 3, 2], [2, 1, 3], [2, 3, 1], [3, 1, 2], [3, 2, 1]]"
      ]
     },
     "execution_count": 54,
     "metadata": {},
     "output_type": "execute_result"
    }
   ],
   "source": [
    "# 60\n",
    "l = [1,2,3]\n",
    "\n",
    "def perms(l):\n",
    "    if len(l) == 0:\n",
    "        return [[]]\n",
    "    res = []\n",
    "    for i in range(len(l)):\n",
    "        current = l[i]\n",
    "        remains = l[:i] + l[i+1:]\n",
    "        for j in perms(remains):\n",
    "            res.append([current]+j)\n",
    "    return res\n",
    "perms(l)"
   ]
  },
  {
   "cell_type": "code",
   "execution_count": 55,
   "id": "db326bdc",
   "metadata": {},
   "outputs": [
    {
     "name": "stdout",
     "output_type": "stream",
     "text": [
      "[10, 50]\n"
     ]
    }
   ],
   "source": [
    "#61. Write a Python program to get the difference between the two lists.\n",
    "l1 = [10,20,30,40]\n",
    "l2 = [50,20,30,40]\n",
    "l3=set(l1).symmetric_difference(set(l2))\n",
    "print(list(l3))"
   ]
  },
  {
   "cell_type": "code",
   "execution_count": 57,
   "id": "72dbe6a8",
   "metadata": {},
   "outputs": [
    {
     "data": {
      "text/plain": [
       "[10, 50]"
      ]
     },
     "execution_count": 57,
     "metadata": {},
     "output_type": "execute_result"
    }
   ],
   "source": [
    "# 62\n",
    "res = []\n",
    "for i in range(len(l1)):\n",
    "    if l1[i] in l2:\n",
    "        continue\n",
    "    else:\n",
    "        res.append(l1[i])\n",
    "    if l2[i] in l1:\n",
    "        continue\n",
    "    else:\n",
    "        res.append(l2[i])\n",
    "res"
   ]
  },
  {
   "cell_type": "code",
   "execution_count": 59,
   "id": "2309ce41",
   "metadata": {},
   "outputs": [
    {
     "name": "stdout",
     "output_type": "stream",
     "text": [
      "[(0, 10), (1, 25), (2, 30), (3, 50), (4, 70)]\n"
     ]
    }
   ],
   "source": [
    "#63. Write a Python program access the index of a list.\n",
    "l = [10,25,30,50,70]\n",
    "\n",
    "print(list(enumerate(l)))"
   ]
  },
  {
   "cell_type": "code",
   "execution_count": 60,
   "id": "b97193ff",
   "metadata": {},
   "outputs": [
    {
     "data": {
      "text/plain": [
       "[(0, 10), (1, 25), (2, 30), (3, 50), (4, 70)]"
      ]
     },
     "execution_count": 60,
     "metadata": {},
     "output_type": "execute_result"
    }
   ],
   "source": [
    "# 64\n",
    "res = []\n",
    "for i,j in enumerate(l):\n",
    "    res.append((i,j))\n",
    "res"
   ]
  },
  {
   "cell_type": "code",
   "execution_count": 63,
   "id": "15937077",
   "metadata": {},
   "outputs": [
    {
     "data": {
      "text/plain": [
       "[(0, 10), (1, 25), (2, 30), (3, 50), (4, 70)]"
      ]
     },
     "execution_count": 63,
     "metadata": {},
     "output_type": "execute_result"
    }
   ],
   "source": [
    "# 65\n",
    "l = [10,25,30,50,70]\n",
    "res = []\n",
    "count = 0\n",
    "for i in l:\n",
    "    res.append((count,i))\n",
    "    count += 1\n",
    "res"
   ]
  },
  {
   "cell_type": "code",
   "execution_count": 64,
   "id": "5f6557b5",
   "metadata": {},
   "outputs": [
    {
     "data": {
      "text/plain": [
       "'apple'"
      ]
     },
     "execution_count": 64,
     "metadata": {},
     "output_type": "execute_result"
    }
   ],
   "source": [
    "#66. Write a Python program to convert a list of characters into a string.\n",
    "l = ['a','p','p','l','e']\n",
    "l2=\"\"\n",
    "l2.join(l)"
   ]
  },
  {
   "cell_type": "code",
   "execution_count": 65,
   "id": "454dcf02",
   "metadata": {},
   "outputs": [
    {
     "data": {
      "text/plain": [
       "'apple'"
      ]
     },
     "execution_count": 65,
     "metadata": {},
     "output_type": "execute_result"
    }
   ],
   "source": [
    "# 67\n",
    "res = ''\n",
    "for i in l:\n",
    "    res = res + i\n",
    "res"
   ]
  },
  {
   "cell_type": "code",
   "execution_count": 66,
   "id": "076ad95a",
   "metadata": {},
   "outputs": [
    {
     "name": "stdout",
     "output_type": "stream",
     "text": [
      "1\n"
     ]
    }
   ],
   "source": [
    "#68. Write a Python program to find the index of an item in a specified list.\n",
    "l = [10,20,30,40]\n",
    "print(l.index(20))"
   ]
  },
  {
   "cell_type": "code",
   "execution_count": 67,
   "id": "d404b76c",
   "metadata": {},
   "outputs": [
    {
     "data": {
      "text/plain": [
       "20"
      ]
     },
     "execution_count": 67,
     "metadata": {},
     "output_type": "execute_result"
    }
   ],
   "source": [
    "# 69 to get specified value by index\n",
    "def find_ind(l,ind):\n",
    "    for i in range(len(l)):\n",
    "        if i == ind:\n",
    "            return l[i]\n",
    "find_ind(l,1)\n"
   ]
  },
  {
   "cell_type": "code",
   "execution_count": 69,
   "id": "e7bcdd8f",
   "metadata": {},
   "outputs": [
    {
     "data": {
      "text/plain": [
       "1"
      ]
     },
     "execution_count": 69,
     "metadata": {},
     "output_type": "execute_result"
    }
   ],
   "source": [
    "# 70 to get specified index by value\n",
    "def find_ind(l,ind):\n",
    "    for i in range(len(l)):\n",
    "        if l[i] == ind:\n",
    "            return i\n",
    "find_ind(l,20)"
   ]
  },
  {
   "cell_type": "code",
   "execution_count": 70,
   "id": "9c6a0a87",
   "metadata": {},
   "outputs": [
    {
     "name": "stdout",
     "output_type": "stream",
     "text": [
      "[2, 3, 1, 2, 3, 4, 5, 6, 8, 9]\n"
     ]
    }
   ],
   "source": [
    "#71. Write a Python program to flatten a shallow list.\n",
    "l = [[2,3],[1,2,3],[4,5,6],[8,9]]\n",
    "l1 =[]\n",
    "for i in l:\n",
    "  for j in i:\n",
    "    l1.append(j)\n",
    "print(l1)"
   ]
  },
  {
   "cell_type": "code",
   "execution_count": 74,
   "id": "4229af40",
   "metadata": {},
   "outputs": [
    {
     "name": "stdout",
     "output_type": "stream",
     "text": [
      "[0, 1, 2, 'red', 'orange', 'black']\n"
     ]
    }
   ],
   "source": [
    "#72. Write a Python program to append a list to the second list.\n",
    "l1 = [0,1,2]\n",
    "l2 = ['red','orange','black']\n",
    "l3 = l1+l2\n",
    "print(l3)"
   ]
  },
  {
   "cell_type": "code",
   "execution_count": 75,
   "id": "76f666a8",
   "metadata": {},
   "outputs": [
    {
     "data": {
      "text/plain": [
       "[0, 1, 2, 'red', 'orange', 'black']"
      ]
     },
     "execution_count": 75,
     "metadata": {},
     "output_type": "execute_result"
    }
   ],
   "source": [
    "# 73\n",
    "def appen(l1,l2):\n",
    "    for i in l2:\n",
    "        l1.append(i)\n",
    "    return l1\n",
    "appen(l1,l2)"
   ]
  },
  {
   "cell_type": "code",
   "execution_count": 76,
   "id": "587c4b40",
   "metadata": {},
   "outputs": [
    {
     "data": {
      "text/plain": [
       "30"
      ]
     },
     "execution_count": 76,
     "metadata": {},
     "output_type": "execute_result"
    }
   ],
   "source": [
    "#74. Write a Python program to select an item randomly from a list.\n",
    "import random\n",
    "l = [10,20,30,40]\n",
    "random.choice(l)"
   ]
  },
  {
   "cell_type": "code",
   "execution_count": 77,
   "id": "a65c9d0e",
   "metadata": {},
   "outputs": [
    {
     "name": "stdout",
     "output_type": "stream",
     "text": [
      "The lists are circularly identical.\n"
     ]
    }
   ],
   "source": [
    "#75. Write a python program to check whether two lists are circularly identical.\n",
    "list1 = [1, 2, 3, 4]\n",
    "list2 = [3, 4, 1, 2]\n",
    "\n",
    "# Concatenate list1 with itself\n",
    "combined = list1 + list1\n",
    "\n",
    "# Check if list2 is in the combined list\n",
    "if len(list1) == len(list2) and str(list2)[1:-1] in str(combined)[1:-1]:\n",
    "    print(\"The lists are circularly identical.\")\n",
    "else:\n",
    "    print(\"The lists are not circularly identical.\")"
   ]
  },
  {
   "cell_type": "code",
   "execution_count": 78,
   "id": "01d3b0d5",
   "metadata": {},
   "outputs": [
    {
     "data": {
      "text/plain": [
       "20"
      ]
     },
     "execution_count": 78,
     "metadata": {},
     "output_type": "execute_result"
    }
   ],
   "source": [
    "#76. Write a Python program to find the second smallest number in a list.\n",
    "l = [10,20,30,50,90,40]\n",
    "sorted(l)[1]"
   ]
  },
  {
   "cell_type": "code",
   "execution_count": 84,
   "id": "4ba8d8d1",
   "metadata": {},
   "outputs": [
    {
     "name": "stdout",
     "output_type": "stream",
     "text": [
      "20\n"
     ]
    }
   ],
   "source": [
    "# 77\n",
    "small = l[0]\n",
    "second_small = l[1]\n",
    "for i in l[1:]:\n",
    "    if i < small :\n",
    "        second_small = small\n",
    "        small = i\n",
    "    elif i < second_small:\n",
    "        second_small = i\n",
    "    else:\n",
    "        continue\n",
    "print(second_small)"
   ]
  },
  {
   "cell_type": "code",
   "execution_count": null,
   "id": "eed7992a",
   "metadata": {},
   "outputs": [],
   "source": [
    "#78. Write a Python program to find the second largest number in a list.\n",
    "l = [10,20,30,50,90,40]\n",
    "sorted(l)[-2]"
   ]
  },
  {
   "cell_type": "code",
   "execution_count": 85,
   "id": "c18fb924",
   "metadata": {},
   "outputs": [
    {
     "name": "stdout",
     "output_type": "stream",
     "text": [
      "50\n"
     ]
    }
   ],
   "source": [
    "# 79\n",
    "big = l[0]\n",
    "second_big = l[1]\n",
    "for i in l[1:]:\n",
    "    if i > big :\n",
    "        second_big = big\n",
    "        big = i\n",
    "    elif i > second_big:\n",
    "        second_big = i\n",
    "    else:\n",
    "        continue\n",
    "print(second_big)"
   ]
  },
  {
   "cell_type": "code",
   "execution_count": 86,
   "id": "31a6de90",
   "metadata": {},
   "outputs": [
    {
     "name": "stdout",
     "output_type": "stream",
     "text": [
      "[20, 10, 30, 5, 40]\n"
     ]
    }
   ],
   "source": [
    "#80. Write a Python program to get unique values from a list.\n",
    "l = [10,20,10,5,5,30,30,5,40]\n",
    "l1=[]\n",
    "for i in range(len(l)):\n",
    "  if l[i] not in l[i+1:]:\n",
    "    l1.append(l[i])\n",
    "print(l1)"
   ]
  },
  {
   "cell_type": "code",
   "execution_count": null,
   "id": "4c72471f",
   "metadata": {},
   "outputs": [
    {
     "data": {
      "text/plain": [
       "{10: 2, 20: 1, 5: 3, 30: 2, 40: 1}"
      ]
     },
     "execution_count": 88,
     "metadata": {},
     "output_type": "execute_result"
    }
   ],
   "source": [
    "#81. Write a Python program to get the frequency of the elements in a list.\n",
    "#l = [10,20,10,5,5,30,30,5,40]\n",
    "def frq_count(lst):\n",
    "  F={}\n",
    "  for i in lst:\n",
    "      if i in F:\n",
    "         F[i]+=1\n",
    "      else:\n",
    "         F[i]=1\n",
    "  return(F)\n",
    "\n",
    "frq_count([10,20,10,5,5,30,30,5,40])"
   ]
  },
  {
   "cell_type": "code",
   "execution_count": null,
   "id": "ec2307e2",
   "metadata": {},
   "outputs": [
    {
     "data": {
      "text/plain": [
       "5"
      ]
     },
     "execution_count": 89,
     "metadata": {},
     "output_type": "execute_result"
    }
   ],
   "source": [
    "#82. Write a Python program to count the number of elements in a list within a specified range.\n",
    "def sample(lst,start,end):\n",
    "  count = 0\n",
    "  for i in lst:\n",
    "    if start<= i <= end:\n",
    "      count += 1\n",
    "  return count\n",
    "sample([1,2,5,7,9,10,15,20],3,15)"
   ]
  },
  {
   "cell_type": "code",
   "execution_count": null,
   "id": "1930d940",
   "metadata": {},
   "outputs": [
    {
     "data": {
      "text/plain": [
       "True"
      ]
     },
     "execution_count": 90,
     "metadata": {},
     "output_type": "execute_result"
    }
   ],
   "source": [
    "#83. Write a Python program to check whether a list contains a sublist.\n",
    "def sample(lst,sublist):\n",
    "  return str(sublist)[1:-1] in str(lst)[1:-1]\n",
    "sample([1,2,3,4,5],[3,4])"
   ]
  },
  {
   "cell_type": "code",
   "execution_count": null,
   "id": "8d2a539c",
   "metadata": {},
   "outputs": [
    {
     "data": {
      "text/plain": [
       "[[1],\n",
       " [1, 2],\n",
       " [1, 2, 3],\n",
       " [1, 2, 3, 5],\n",
       " [1, 2, 3, 5, 6],\n",
       " [1, 2, 3, 5, 6, 7],\n",
       " [2],\n",
       " [2, 3],\n",
       " [2, 3, 5],\n",
       " [2, 3, 5, 6],\n",
       " [2, 3, 5, 6, 7],\n",
       " [3],\n",
       " [3, 5],\n",
       " [3, 5, 6],\n",
       " [3, 5, 6, 7],\n",
       " [5],\n",
       " [5, 6],\n",
       " [5, 6, 7],\n",
       " [6],\n",
       " [6, 7],\n",
       " [7]]"
      ]
     },
     "execution_count": 91,
     "metadata": {},
     "output_type": "execute_result"
    }
   ],
   "source": [
    "#84. Write a Python program to generate all sublists of a list.\n",
    "def sublist(lst):\n",
    "  sub =[]\n",
    "  for i in range(len(lst)+ 1):\n",
    "    for j in range((i+1),len(lst)+1):\n",
    "      sub.append(lst[i:j])\n",
    "  return(sub)\n",
    "sublist([1,2,3,5,6,7])"
   ]
  },
  {
   "cell_type": "code",
   "execution_count": 94,
   "id": "62ad9e6b",
   "metadata": {},
   "outputs": [
    {
     "name": "stdout",
     "output_type": "stream",
     "text": [
      "Prime numbers up to 30 are: [2, 3, 5, 7, 11, 13, 17, 19, 23, 29]\n"
     ]
    }
   ],
   "source": [
    "# 85. Write a Python program using Sieve of Eratosthenes method for computing primes upto a specified number.\n",
    "def sieve_of_eratosthenes(n):\n",
    "    # Create a boolean array \"prime[0:n+1]\" and initialize all entries as True.\n",
    "    # A value in prime[i] will be False if i is not a prime.\n",
    "    prime = [True] * (n + 1)\n",
    "    p = 2  # Start with the first prime number\n",
    "    \n",
    "    while p * p <= n:\n",
    "        # If prime[p] is still True, then it is a prime number.\n",
    "        if prime[p]:\n",
    "            # Update all multiples of p to False starting from p^2\n",
    "            for i in range(p * p, n + 1, p):\n",
    "                prime[i] = False\n",
    "        p += 1\n",
    "\n",
    "    # Collect all prime numbers\n",
    "    primes = [p for p in range(2, n + 1) if prime[p]]\n",
    "    return primes\n",
    "\n",
    "# Input: Specify the number up to which you want to find prime numbers\n",
    "n = 30\n",
    "\n",
    "# Compute primes up to n\n",
    "primes = sieve_of_eratosthenes(n)\n",
    "print(f\"Prime numbers up to {n} are: {primes}\")"
   ]
  },
  {
   "cell_type": "code",
   "execution_count": 95,
   "id": "d5eb0cbb",
   "metadata": {},
   "outputs": [
    {
     "data": {
      "text/plain": [
       "['p1', 'q1', 'p2', 'q2', 'p3', 'q3', 'p4', 'q4', 'p5', 'q5']"
      ]
     },
     "execution_count": 95,
     "metadata": {},
     "output_type": "execute_result"
    }
   ],
   "source": [
    "\"\"\"\n",
    "86. Write a Python program to create a list by concatenating a given list which\n",
    "range goes from 1 to n.\n",
    "Sample list : ['p', 'q']\n",
    "n =5\n",
    "Sample Output : ['p1', 'q1', 'p2', 'q2', 'p3', 'q3', 'p4', 'q4', 'p5', 'q5']\n",
    "\"\"\"\n",
    "Sample_list= ['p', 'q']\n",
    "n=5\n",
    "a=[]\n",
    "for i in range(1,n+1):\n",
    "  for j in Sample_list:\n",
    "    result = a.append(str(j)+str(i))\n",
    "a"
   ]
  },
  {
   "cell_type": "code",
   "execution_count": 96,
   "id": "0a882731",
   "metadata": {},
   "outputs": [
    {
     "name": "stdout",
     "output_type": "stream",
     "text": [
      "The ID of x is: 140730413301464\n",
      "The ID of y is: 1608950465840\n",
      "The ID of z is: 1608951030848\n"
     ]
    }
   ],
   "source": [
    "#87. Write a Python program to get variable unique identification number or string.\n",
    "x = 42\n",
    "y = \"Hello, World!\"\n",
    "z = [1, 2, 3]\n",
    "\n",
    "print(f\"The ID of x is: {id(x)}\")\n",
    "print(f\"The ID of y is: {id(y)}\")\n",
    "print(f\"The ID of z is: {id(z)}\")\n"
   ]
  },
  {
   "cell_type": "code",
   "execution_count": 101,
   "id": "cdb55975",
   "metadata": {},
   "outputs": [
    {
     "name": "stdout",
     "output_type": "stream",
     "text": [
      "{'White', 'Green'}\n"
     ]
    }
   ],
   "source": [
    "#88. Write a Python program to find common items from two lists.\n",
    "color1 = [\"Red\", \"Green\", \"Orange\", \"White\"]\n",
    "color2 = [\"Black\", \"Green\", \"White\", \"Pink\"]\n",
    "print(set(color1) & set(color2))"
   ]
  },
  {
   "cell_type": "code",
   "execution_count": 102,
   "id": "fe9459e5",
   "metadata": {},
   "outputs": [
    {
     "data": {
      "text/plain": [
       "['Green', 'White']"
      ]
     },
     "execution_count": 102,
     "metadata": {},
     "output_type": "execute_result"
    }
   ],
   "source": [
    "# 89\n",
    "res = []\n",
    "for i in color1:\n",
    "    if i in color2:\n",
    "        res.append(i)\n",
    "    else:\n",
    "        continue\n",
    "res"
   ]
  },
  {
   "cell_type": "code",
   "execution_count": 103,
   "id": "3b93804c",
   "metadata": {},
   "outputs": [
    {
     "data": {
      "text/plain": [
       "[1, 0, 3, 2, 5, 4]"
      ]
     },
     "execution_count": 103,
     "metadata": {},
     "output_type": "execute_result"
    }
   ],
   "source": [
    "\"\"\"\n",
    "90. Write a Python program to change the position of every n-th value with the\n",
    "(n+1)th in a list.\n",
    "Sample list: [0,1,2,3,4,5]\n",
    "Expected Output: [1, 0, 3, 2, 5, 4]\n",
    "\"\"\"\n",
    "\n",
    "def swap(lst,n):\n",
    "  for i in range(0,len(lst)-1,n):\n",
    "    lst[i],lst[i+1] = lst[i+1],lst[i]\n",
    "  return(lst)\n",
    "swap([0,1,2,3,4,5],2)"
   ]
  },
  {
   "cell_type": "code",
   "execution_count": 104,
   "id": "e85e61d4",
   "metadata": {},
   "outputs": [
    {
     "data": {
      "text/plain": [
       "113350"
      ]
     },
     "execution_count": 104,
     "metadata": {},
     "output_type": "execute_result"
    }
   ],
   "source": [
    "\"\"\"\n",
    "91. Write a Python program to convert a list of multiple integers into a single\n",
    "integer.\n",
    "Sample list: [11, 33, 50]\n",
    "Expected Output: 113350\n",
    "\"\"\"\n",
    "def sample(lst):\n",
    "  a =\"\".join(str(lst)[1:-1])\n",
    "  b=a.split(', ')\n",
    "  c= \"\".join(b)\n",
    "\n",
    "  return(int(c))\n",
    "sample([11, 33, 50])"
   ]
  },
  {
   "cell_type": "code",
   "execution_count": 105,
   "id": "1e77fd20",
   "metadata": {},
   "outputs": [
    {
     "data": {
      "text/plain": [
       "{'a': ['apple', 'ant'],\n",
       " 'b': ['banana'],\n",
       " 'c': ['chiku', 'cat'],\n",
       " 'd': ['dog'],\n",
       " 'e': ['eng']}"
      ]
     },
     "execution_count": 105,
     "metadata": {},
     "output_type": "execute_result"
    }
   ],
   "source": [
    "#92. Write a Python program to split a list based on first character of word.\n",
    "def sample(lst):\n",
    "  r ={}\n",
    "  for i in lst:\n",
    "    a = i[0]\n",
    "    if a not in r:\n",
    "      r[a]=[]\n",
    "    r[a].append(i)\n",
    "  return(r)\n",
    "sample(['apple','banana','chiku','cat','ant','dog','eng'])"
   ]
  },
  {
   "cell_type": "code",
   "execution_count": 108,
   "id": "86d6df50",
   "metadata": {},
   "outputs": [
    {
     "name": "stdout",
     "output_type": "stream",
     "text": [
      "['a']\n",
      "['b']\n",
      "['v']\n"
     ]
    }
   ],
   "source": [
    "# 93. Write a Python program to create multiple lists. \n",
    "L = ['a','b','v']\n",
    "for i in L:\n",
    "    print(list(i)) "
   ]
  },
  {
   "cell_type": "code",
   "execution_count": 112,
   "id": "40f5b414",
   "metadata": {},
   "outputs": [
    {
     "data": {
      "text/plain": [
       "\"missing values in second list are: ['a', 'b', 'c'] Additional values are: ['g', 'h']\""
      ]
     },
     "execution_count": 112,
     "metadata": {},
     "output_type": "execute_result"
    }
   ],
   "source": [
    "# 94. Write a Python program to find missing and additional values in two lists. \n",
    "# Sample data : Missing values in second list: b,a,c\n",
    "#  values in second list: g,h\n",
    "L = ['a','b','c','d','e','f']\n",
    "L2 = ['d','e','f','g','h']\n",
    "def find_miss_add(lst,second_lst):\n",
    "    miss = []\n",
    "    add = []\n",
    "    for i in lst:\n",
    "        if i not in second_lst:\n",
    "            miss.append(i)\n",
    "    for i in second_lst:\n",
    "        if i not in lst:\n",
    "            add.append(i)\n",
    "    return f'missing values in second list are: {miss} Additional values are: {add}'\n",
    "\n",
    "find_miss_add(L,L2)"
   ]
  },
  {
   "cell_type": "code",
   "execution_count": 113,
   "id": "aca06b50",
   "metadata": {},
   "outputs": [
    {
     "data": {
      "text/plain": [
       "(['amar', 'prashant'], [True, 0.32])"
      ]
     },
     "execution_count": 113,
     "metadata": {},
     "output_type": "execute_result"
    }
   ],
   "source": [
    "# 95. Write a Python program to split a list into different variables. \n",
    "L = ['amar', 'prashant', True, 0.32]\n",
    "def split(L):\n",
    "    a = L[:2]\n",
    "    b = L[2:]\n",
    "    return a,b\n",
    "split(L)"
   ]
  },
  {
   "cell_type": "code",
   "execution_count": 114,
   "id": "c21f1249",
   "metadata": {},
   "outputs": [
    {
     "name": "stdout",
     "output_type": "stream",
     "text": [
      "Group 1: [0, 1, 2, 3, 4]\n",
      "Group 2: [5, 6, 7, 8, 9]\n",
      "Group 3: [10, 11, 12, 13, 14]\n",
      "Group 4: [15, 16, 17, 18, 19]\n",
      "Group 5: [20, 21, 22, 23, 24]\n",
      "Group 6: [25, 26, 27, 28, 29]\n"
     ]
    }
   ],
   "source": [
    "# 96. Write a Python program to generate groups of five consecutive numbers in a list. \n",
    "def generate_groups_of_five(n):\n",
    "    # Generate groups of five consecutive numbers\n",
    "    groups = []\n",
    "    \n",
    "    for i in range(0, n, 5):\n",
    "        group = list(range(i, min(i + 5, n)))\n",
    "        groups.append(group)\n",
    "    return groups\n",
    "\n",
    "n = 30\n",
    "result = generate_groups_of_five(n)\n",
    "for index, group in enumerate(result):\n",
    "    print(f\"Group {index + 1}: {group}\")"
   ]
  },
  {
   "cell_type": "code",
   "execution_count": 115,
   "id": "c54d98e2",
   "metadata": {},
   "outputs": [
    {
     "data": {
      "text/plain": [
       "[3, 4]"
      ]
     },
     "execution_count": 115,
     "metadata": {},
     "output_type": "execute_result"
    }
   ],
   "source": [
    "# 97. Write a Python program to convert a pair of values into a sorted unique array.\n",
    "def unique_arr(v1,v2):\n",
    "    res = sorted([v1,v2])\n",
    "    return res\n",
    "unique_arr(3,4)"
   ]
  },
  {
   "cell_type": "code",
   "execution_count": 116,
   "id": "515e24a3",
   "metadata": {},
   "outputs": [
    {
     "data": {
      "text/plain": [
       "[1, 3, 5, 7, 9]"
      ]
     },
     "execution_count": 116,
     "metadata": {},
     "output_type": "execute_result"
    }
   ],
   "source": [
    "# 98. Write a Python program to select the odd items of a list\n",
    "L = [1,2,3,4,5,6,7,8,9]\n",
    "def odd(L):\n",
    "    res = []\n",
    "    for i in L:\n",
    "        if i%2 != 0:\n",
    "            res.append(i)\n",
    "    return res\n",
    "odd(L)"
   ]
  },
  {
   "cell_type": "code",
   "execution_count": 117,
   "id": "fa07763e",
   "metadata": {},
   "outputs": [
    {
     "data": {
      "text/plain": [
       "['X', 1, 'X', 2, 'X', 3]"
      ]
     },
     "execution_count": 117,
     "metadata": {},
     "output_type": "execute_result"
    }
   ],
   "source": [
    "# 99. Write a Python program to insert an element before each element of a list.\n",
    "def insrt(L,ele):\n",
    "    res = []\n",
    "    for i in L:\n",
    "        res.append(ele)\n",
    "        res.append(i)\n",
    "    return res\n",
    "insrt([1,2,3],'X')"
   ]
  },
  {
   "cell_type": "code",
   "execution_count": 124,
   "id": "f6878836",
   "metadata": {},
   "outputs": [
    {
     "name": "stdout",
     "output_type": "stream",
     "text": [
      "['a']\n",
      "['b']\n",
      "['c']\n"
     ]
    }
   ],
   "source": [
    "# 100. Write a Python program to print a nested lists (each list on a new line) using the print() function.\n",
    "L = ['a', 'b','c']\n",
    "def nest(L):\n",
    "    res = []\n",
    "    for i in L:\n",
    "        res.append(print(list(i)))\n",
    "    \n",
    "nest(L)\n"
   ]
  },
  {
   "cell_type": "code",
   "execution_count": 137,
   "id": "47fd5eba",
   "metadata": {},
   "outputs": [
    {
     "name": "stdout",
     "output_type": "stream",
     "text": [
      "[{'color_name': 'Black', 'color_code': '#000000'}, {'color_name': 'Red', 'color_code': '#FF0000'}, {'color_name': 'Maroon', 'color_code': '#800000'}, {'color_name': 'Yellow', 'color_code': '#FFFF00'}]\n"
     ]
    }
   ],
   "source": [
    "# 101. Write a Python program to convert list to list of dictionaries. \n",
    "# Sample lists: [\"Black\", \"Red\", \"Maroon\", \"Yellow\"], [\"#000000\", \"#FF0000\",\"#800000\", \"#FFFF00\"] \n",
    "# Expected Output: [{'color_name': 'Black', 'color_code': '#000000'}, {'color_name': 'Red', 'color_code': '#FF0000'}, {'color_name': 'Maroon', 'color_code': '#800000'}, \n",
    "# {'color_name': 'Yellow', 'color_code': '#FFFF00'}]\n",
    "L = [\"Black\", \"Red\", \"Maroon\", \"Yellow\"]\n",
    "L2 = [\"#000000\", \"#FF0000\",\"#800000\", \"#FFFF00\"]\n",
    "def convert_to_dicts(color_names, color_codes):\n",
    "\n",
    "    color_dicts = [{'color_name': name, 'color_code': code} for name, code in zip(color_names, color_codes)]\n",
    "    return color_dicts\n",
    "\n",
    "# Convert and print the list of dictionaries\n",
    "result = convert_to_dicts(L,L2)\n",
    "print(result)\n"
   ]
  },
  {
   "cell_type": "code",
   "execution_count": 139,
   "id": "82931fff",
   "metadata": {},
   "outputs": [
    {
     "data": {
      "text/plain": [
       "[{'name': 'Eve', 'age': 22},\n",
       " {'name': 'Alice', 'age': 24},\n",
       " {'name': 'John', 'age': 28},\n",
       " {'name': 'Bob', 'age': 30}]"
      ]
     },
     "execution_count": 139,
     "metadata": {},
     "output_type": "execute_result"
    }
   ],
   "source": [
    "# 102. Write a Python program to sort a list of nested dictionaries. \n",
    "def sort_nested_dicts(nested_dicts, sort_key):\n",
    "    sorted_dicts = sorted(nested_dicts, key=lambda x: x[sort_key])\n",
    "    return sorted_dicts\n",
    "\n",
    "nested_dicts = [\n",
    "    {'name': 'John', 'age': 28},\n",
    "    {'name': 'Alice', 'age': 24},\n",
    "    {'name': 'Bob', 'age': 30},\n",
    "    {'name': 'Eve', 'age': 22}]\n",
    "\n",
    "sort_key = 'age'\n",
    "sort_nested_dicts(nested_dicts, sort_key)"
   ]
  },
  {
   "cell_type": "code",
   "execution_count": 141,
   "id": "88f4c0fb",
   "metadata": {},
   "outputs": [
    {
     "data": {
      "text/plain": [
       "[['a', 'd', 'g', 'j', 'm'], ['b', 'e', 'h', 'k', 'n'], ['c', 'f', 'i', 'l']]"
      ]
     },
     "execution_count": 141,
     "metadata": {},
     "output_type": "execute_result"
    }
   ],
   "source": [
    "# 103. Write a Python program to split a list every Nth element. \n",
    "# Sample list: ['a', 'b', 'c', 'd', 'e', 'f', 'g', 'h', 'i', 'j', 'k', 'l', 'm', 'n']\n",
    "# Expected Output: [['a', 'd', 'g', 'j', 'm'], ['b', 'e', 'h', 'k', 'n'], ['c', 'f', 'i', 'l']]\n",
    "L = ['a', 'b', 'c', 'd', 'e', 'f', 'g', 'h', 'i', 'j', 'k', 'l', 'm', 'n']\n",
    "def split_list(L, n):\n",
    "    result = [[] for _ in range(n)]\n",
    "    \n",
    "    for index, item in enumerate(L):\n",
    "        result[index % n].append(item)\n",
    "    \n",
    "    return result\n",
    "split_list(L,3)"
   ]
  },
  {
   "cell_type": "code",
   "execution_count": 142,
   "id": "022e471c",
   "metadata": {},
   "outputs": [
    {
     "name": "stdout",
     "output_type": "stream",
     "text": [
      "['red', 'orange', 'white']\n",
      "['black', 'yellow']\n"
     ]
    }
   ],
   "source": [
    "# 104. Write a Python program to compute the similarity between two lists. \n",
    "# Sample data: [\"red\", \"orange\", \"green\", \"blue\", \"white\"], [\"black\", \"yellow\", \"green\",\"blue\"] \n",
    "# Expected Output: \n",
    "# Color1-Color2: ['white', 'orange', 'red']\n",
    "# Color2-Color1: ['black', 'yellow'] \n",
    "L = [\"red\", \"orange\", \"green\", \"blue\", \"white\"]\n",
    "L2 = [\"black\", \"yellow\", \"green\",\"blue\"]\n",
    "res = []\n",
    "res2 = []\n",
    "for i in L:\n",
    "    if i not in L2:\n",
    "        res.append(i)\n",
    "for i in L2:\n",
    "    if i not in L:\n",
    "        res2.append(i)\n",
    "print(res)\n",
    "print(res2)"
   ]
  },
  {
   "cell_type": "code",
   "execution_count": 143,
   "id": "777868a1",
   "metadata": {},
   "outputs": [
    {
     "name": "stdout",
     "output_type": "stream",
     "text": [
      "First 10 elements of the infinite list:\n",
      "0\n",
      "1\n",
      "2\n",
      "3\n",
      "4\n",
      "5\n",
      "6\n",
      "7\n",
      "8\n",
      "9\n"
     ]
    }
   ],
   "source": [
    "# 105. Write a Python program to create a list with infinite elements. \n",
    "def infinite_list(start=0):\n",
    "    while True:\n",
    "        yield start\n",
    "        start += 1\n",
    "\n",
    "infinite_list = infinite_list()\n",
    "\n",
    "print(\"First 10 elements of the infinite list:\")\n",
    "for _ in range(10):\n",
    "    print(next(infinite_list))"
   ]
  },
  {
   "cell_type": "code",
   "execution_count": 144,
   "id": "acac5acd",
   "metadata": {},
   "outputs": [
    {
     "data": {
      "text/plain": [
       "'amar34True0.34'"
      ]
     },
     "execution_count": 144,
     "metadata": {},
     "output_type": "execute_result"
    }
   ],
   "source": [
    "# 106. Write a Python program to concatenate elements of a list. \n",
    "L = ['amar', 34,True, 0.34]\n",
    "def conc(L):\n",
    "    res = ''\n",
    "    for i in L:\n",
    "        res = res + str(i)\n",
    "    return res\n",
    "conc(L)"
   ]
  },
  {
   "cell_type": "code",
   "execution_count": 149,
   "id": "6c457895",
   "metadata": {},
   "outputs": [
    {
     "data": {
      "text/plain": [
       "[{'name': 'Alice', 'city': 'New York'},\n",
       " {'name': 'Bob', 'city': 'Los Angeles'},\n",
       " {'name': 'Charlie', 'city': 'Chicago'}]"
      ]
     },
     "execution_count": 149,
     "metadata": {},
     "output_type": "execute_result"
    }
   ],
   "source": [
    "# 107. Write a Python program to remove key values pairs from a list of dictionaries.\n",
    "def remove_key(dict, key):\n",
    "    for dictionary in dict:\n",
    "        dictionary.pop(key, None)\n",
    "    return dict\n",
    "\n",
    "sample = [\n",
    "    {'name': 'Alice', 'age': 30, 'city': 'New York'},\n",
    "    {'name': 'Bob', 'age': 25, 'city': 'Los Angeles'},\n",
    "    {'name': 'Charlie', 'age': 35, 'city': 'Chicago'}\n",
    "]\n",
    "\n",
    "key = 'age'\n",
    "remove_key(sample, key)"
   ]
  },
  {
   "cell_type": "code",
   "execution_count": 150,
   "id": "5575d82a",
   "metadata": {},
   "outputs": [
    {
     "data": {
      "text/plain": [
       "['A', 'm', 'a', 'r']"
      ]
     },
     "execution_count": 150,
     "metadata": {},
     "output_type": "execute_result"
    }
   ],
   "source": [
    "# 108. Write a Python program to convert a string to a list. \n",
    "def conver(S):\n",
    "    return list(S)\n",
    "conver('Amar')"
   ]
  },
  {
   "cell_type": "code",
   "execution_count": 159,
   "id": "a79aa2fe",
   "metadata": {},
   "outputs": [
    {
     "data": {
      "text/plain": [
       "False"
      ]
     },
     "execution_count": 159,
     "metadata": {},
     "output_type": "execute_result"
    }
   ],
   "source": [
    "# 109. Write a Python program to check if all items of a list is equal to a given string.\n",
    "lst = ['apple', 'banana', 'cat']\n",
    "def check(lst,st):\n",
    "    res = all(i == st for i in lst)\n",
    "    return all(item == st for item in lst)\n",
    "    return res\n",
    "        \n",
    "check(lst,'cat')"
   ]
  },
  {
   "cell_type": "code",
   "execution_count": 164,
   "id": "fd8bba10",
   "metadata": {},
   "outputs": [
    {
     "data": {
      "text/plain": [
       "[1, 3, 5, 7, 9, 2, 4, 6, 8]"
      ]
     },
     "execution_count": 164,
     "metadata": {},
     "output_type": "execute_result"
    }
   ],
   "source": [
    "# 110. Write a Python program to replace the last element in a list with another list. \n",
    "# Sample data : [1, 3, 5, 7, 9, 10], [2, 4, 6, 8]\n",
    "# Expected Output: [1, 3, 5, 7, 9, 2, 4, 6, 8]\n",
    "L = [1, 3, 5, 7, 9, 10]\n",
    "L2 = [2, 4, 6, 8]\n",
    "def replc(L,L2):\n",
    "    return L[:-1] + L2\n",
    "replc(L,L2)"
   ]
  },
  {
   "cell_type": "code",
   "execution_count": 174,
   "id": "27e1bb8c",
   "metadata": {},
   "outputs": [
    {
     "name": "stdout",
     "output_type": "stream",
     "text": [
      "Not present\n"
     ]
    }
   ],
   "source": [
    "# 111. Write a Python program to check if the n-th element exists in a given list.\n",
    "L = [12,23,45,78,90]\n",
    "def chec(L,n):\n",
    "    if n <= len(L):\n",
    "        print('yes')\n",
    "    else:\n",
    "        print('Not present')\n",
    "chec(L,8)"
   ]
  },
  {
   "cell_type": "code",
   "execution_count": 177,
   "id": "1f56e84b",
   "metadata": {},
   "outputs": [
    {
     "data": {
      "text/plain": [
       "(1, 2)"
      ]
     },
     "execution_count": 177,
     "metadata": {},
     "output_type": "execute_result"
    }
   ],
   "source": [
    "# 112. Write a Python program to find a tuple, the smallest second index value from a list of tuples.\n",
    "L = [(1,2),(4,5),(1,6),(2,1),(2,3)]\n",
    "sorted(L,key= lambda x:x[1])[1]\n"
   ]
  },
  {
   "cell_type": "code",
   "execution_count": 178,
   "id": "05a71760",
   "metadata": {},
   "outputs": [
    {
     "data": {
      "text/plain": [
       "[{}, {}, {}]"
      ]
     },
     "execution_count": 178,
     "metadata": {},
     "output_type": "execute_result"
    }
   ],
   "source": [
    "# 113. Write a Python program to create a list of empty dictionaries.\n",
    "def create():\n",
    "    res = []\n",
    "    for i in range(3):\n",
    "        res.append({})\n",
    "    return res\n",
    "create()"
   ]
  },
  {
   "cell_type": "code",
   "execution_count": 179,
   "id": "0c4417fe",
   "metadata": {},
   "outputs": [
    {
     "data": {
      "text/plain": [
       "'apple banana cat'"
      ]
     },
     "execution_count": 179,
     "metadata": {},
     "output_type": "execute_result"
    }
   ],
   "source": [
    "# 114. Write a Python program to print a list of space-separated elements. \n",
    "L = ['apple', 'banana', 'cat']\n",
    "def space(L):\n",
    "    return \" \".join(str(i) for i in L)\n",
    "space(L)"
   ]
  },
  {
   "cell_type": "code",
   "execution_count": 180,
   "id": "25e4463d",
   "metadata": {},
   "outputs": [
    {
     "data": {
      "text/plain": [
       "['emp1', 'emp2', 'emp3', 'emp4']"
      ]
     },
     "execution_count": 180,
     "metadata": {},
     "output_type": "execute_result"
    }
   ],
   "source": [
    "# 115. Write a Python program to insert a given string at the beginning of all items in a list. \n",
    "# Sample list : [1,2,3,4], string : emp\n",
    "# Expected output : ['emp1', 'emp2', 'emp3', 'emp4']\n",
    "L = [1,2,3,4]\n",
    "ele = 'emp'\n",
    "def add(L,ele):\n",
    "    return [ele + str(i) for i in L]\n",
    "add(L,ele)\n"
   ]
  },
  {
   "cell_type": "code",
   "execution_count": 181,
   "id": "a60c210a",
   "metadata": {},
   "outputs": [
    {
     "name": "stdout",
     "output_type": "stream",
     "text": [
      "1 apple\n",
      "2 banana\n",
      "3 cat\n",
      "4 dog\n"
     ]
    }
   ],
   "source": [
    "# 116. Write a Python program to iterate over two lists simultaneously.\n",
    "L1 = [1,2,3,4]\n",
    "L2 = ['apple', 'banana', 'cat', 'dog']\n",
    "for i,j in zip(L1,L2):\n",
    "    print(i,j)"
   ]
  },
  {
   "cell_type": "code",
   "execution_count": 182,
   "id": "1557c02a",
   "metadata": {},
   "outputs": [
    {
     "data": {
      "text/plain": [
       "'age'"
      ]
     },
     "execution_count": 182,
     "metadata": {},
     "output_type": "execute_result"
    }
   ],
   "source": [
    "# 117. Write a Python program to access dictionary keys element by index. \n",
    "def access_dict_key_by_index(input_dict, index):\n",
    "    keys_list = list(input_dict.keys())\n",
    "    if index < 0 or index >= len(keys_list):\n",
    "        return \"Index out of range\"\n",
    "    \n",
    "    return keys_list[index]\n",
    "\n",
    "sample_dict = {\n",
    "    'name': 'Alice',\n",
    "    'age': 30,\n",
    "    'city': 'New York'\n",
    "}\n",
    "\n",
    "index = 1\n",
    "access_dict_key_by_index(sample_dict, index)"
   ]
  },
  {
   "cell_type": "code",
   "execution_count": 189,
   "id": "a6ff4b56",
   "metadata": {},
   "outputs": [
    {
     "data": {
      "text/plain": [
       "[10, 11, 12]"
      ]
     },
     "execution_count": 189,
     "metadata": {},
     "output_type": "execute_result"
    }
   ],
   "source": [
    "# 118. Write a Python program to find the list in a list of lists whose sum of elements is the highest. \n",
    "# Sample lists: [1,2,3], [4,5,6], [10,11,12], [7,8,9]\n",
    "# Expected Output: [10, 11, 12]\n",
    "L = [[1,2,3], [4,5,6], [10,11,12], [7,8,9]]\n",
    "def maxx(L):\n",
    "    return max(L,key=sum)\n",
    "maxx(L)"
   ]
  },
  {
   "cell_type": "code",
   "execution_count": 191,
   "id": "253034a1",
   "metadata": {},
   "outputs": [
    {
     "data": {
      "text/plain": [
       "[10, 11, 12]"
      ]
     },
     "execution_count": 191,
     "metadata": {},
     "output_type": "execute_result"
    }
   ],
   "source": [
    "# 119\n",
    "def highest_sum_list(L):\n",
    "    highest_sum = float('-inf')\n",
    "    highest_sum_list = None\n",
    "    \n",
    "    for current_list in L:\n",
    "        current_sum = sum(current_list)\n",
    "        if current_sum > highest_sum:\n",
    "            highest_sum = current_sum  \n",
    "            highest_sum_list = current_list \n",
    "    \n",
    "    return highest_sum_list\n",
    "highest_sum_list(L)"
   ]
  },
  {
   "cell_type": "code",
   "execution_count": 192,
   "id": "fd2ffeff",
   "metadata": {},
   "outputs": [
    {
     "data": {
      "text/plain": [
       "[6, 7, 8, 9]"
      ]
     },
     "execution_count": 192,
     "metadata": {},
     "output_type": "execute_result"
    }
   ],
   "source": [
    "# 119. Write a Python program to find all the values in a list are greater than a specified number. \n",
    "L = [1,2,3,4,5,6,7,8,9]\n",
    "def grt(L,n):\n",
    "    return [i for i in L if i>n]\n",
    "grt(L,5)"
   ]
  },
  {
   "cell_type": "code",
   "execution_count": 193,
   "id": "4e14d182",
   "metadata": {},
   "outputs": [
    {
     "data": {
      "text/plain": [
       "[40, 50, 60, 10, 20, 30]"
      ]
     },
     "execution_count": 193,
     "metadata": {},
     "output_type": "execute_result"
    }
   ],
   "source": [
    "# 120. Write a Python program to extend a list without append. \n",
    "# Sample data: [10, 20, 30]     [40, 50, 60]\n",
    "# Expected output : [40, 50, 60, 10, 20, 30]\n",
    "L1 = [10,20,30]\n",
    "L2 = [40,50,60]\n",
    "def extnd(L1,L2):\n",
    "    return L2 + L1\n",
    "extnd(L1,L2)"
   ]
  },
  {
   "cell_type": "code",
   "execution_count": 207,
   "id": "6abefeca",
   "metadata": {},
   "outputs": [
    {
     "name": "stdout",
     "output_type": "stream",
     "text": [
      "New List: [[10, 20], [40], [30, 56, 25], [33]]\n"
     ]
    }
   ],
   "source": [
    "# 121. Write a Python program to remove duplicates from a list of lists. \n",
    "# Sample list : [[10, 20], [40], [30, 56, 25], [10, 20], [33], [40]]\n",
    "# New List : [[10, 20], [30, 56, 25], [33], [40]]\n",
    "L = [[10, 20], [40], [30, 56, 25], [10, 20], [33], [40]]\n",
    "def remov(L):\n",
    "    seen = set()\n",
    "    unique_lists = []\n",
    "\n",
    "    for i in L:\n",
    "        tuple_sublist = tuple(i)\n",
    "        if tuple_sublist not in seen:\n",
    "            seen.add(tuple_sublist) \n",
    "            unique_lists.append(i) \n",
    "\n",
    "    return unique_lists\n",
    "new_list = remov(L)\n",
    "print(\"New List:\", new_list)\n"
   ]
  },
  {
   "cell_type": "code",
   "execution_count": 209,
   "id": "89972623",
   "metadata": {},
   "outputs": [
    {
     "name": "stdout",
     "output_type": "stream",
     "text": [
      "Depth of the dictionary: 4\n"
     ]
    }
   ],
   "source": [
    "# 122. Write a Python program to get the depth of a dictionary. \n",
    "def get_dict_depth(d):\n",
    "    if not isinstance(d, dict):\n",
    "        return 0\n",
    "    max_depth = 1\n",
    "    \n",
    "    for value in d.values():\n",
    "        max_depth = max(max_depth, 1 + get_dict_depth(value))\n",
    "    \n",
    "    return max_depth\n",
    "\n",
    "# Sample dictionary\n",
    "sample_dict = {\n",
    "    'a': 1,\n",
    "    'b': {\n",
    "        'c': 2,\n",
    "        'd': {\n",
    "            'e': 3,\n",
    "            'f': {\n",
    "                'g': 4\n",
    "            }\n",
    "        }\n",
    "    },\n",
    "    'h': 5\n",
    "}\n",
    "\n",
    "depth = get_dict_depth(sample_dict)\n",
    "\n",
    "# Print the result\n",
    "print(\"Depth of the dictionary:\", depth)\n"
   ]
  },
  {
   "cell_type": "code",
   "execution_count": 214,
   "id": "3eef5d30",
   "metadata": {},
   "outputs": [
    {
     "name": "stdout",
     "output_type": "stream",
     "text": [
      "Sample list 1 is all empty: True\n",
      "Sample list 2 is all empty: False\n"
     ]
    }
   ],
   "source": [
    "# 123. Write a Python program to check if all dictionaries in a list are empty or not. \n",
    "# Sample list : [{},{},{}]        Return value : True\n",
    "# Sample list : [{1,2},{},{}]     Return value : False\n",
    "def empty(dict):\n",
    "    return all(not d for d in dict)\n",
    "\n",
    "# Sample lists\n",
    "sample_list1 = [{}, {}, {}]\n",
    "sample_list2 = [{1, 2}, {}, {}]\n",
    "\n",
    "result1 = empty(sample_list1)\n",
    "result2 = empty(sample_list2)\n",
    "\n",
    "# Print the results\n",
    "print(f\"Sample list 1 is all empty: {result1}\")\n",
    "print(f\"Sample list 2 is all empty: {result2}\")"
   ]
  },
  {
   "cell_type": "code",
   "execution_count": 148,
   "id": "2257901b",
   "metadata": {},
   "outputs": [
    {
     "data": {
      "text/plain": [
       "2"
      ]
     },
     "execution_count": 148,
     "metadata": {},
     "output_type": "execute_result"
    }
   ],
   "source": [
    "# 124. Write a Python program to count the number of strings where the string length\n",
    "# is 2 or more and the first and last character are same from a given list of strings.\n",
    "\"\"\"\n",
    "Sample List : ['abc', 'xyz', 'aba', '1221']\n",
    "Expected Result : 2\n",
    "\"\"\"\n",
    "l=['abc', 'xyz', 'aba', '1221']\n",
    "result = []\n",
    "for i in l:\n",
    "  if i[0]==i[-1]:\n",
    "    result.append(i)\n",
    "len(result)"
   ]
  },
  {
   "cell_type": "code",
   "execution_count": 146,
   "id": "467cdbf4",
   "metadata": {},
   "outputs": [
    {
     "data": {
      "text/plain": [
       "[[1, 2, 3], [1, 3, 2], [2, 1, 3], [2, 3, 1], [3, 1, 2], [3, 2, 1]]"
      ]
     },
     "execution_count": 146,
     "metadata": {},
     "output_type": "execute_result"
    }
   ],
   "source": [
    "# 125. Write a python program to generate permutations of given list\n",
    "l = [1,2,3]\n",
    "\n",
    "def perms(l):\n",
    "    if len(l) == 0:\n",
    "        return [[]]\n",
    "    res = []\n",
    "    for i in range(len(l)):\n",
    "        current = l[i]\n",
    "        remains = l[:i] + l[i+1:]\n",
    "        for j in perms(remains):\n",
    "            res.append([current]+j)\n",
    "    return res\n",
    "perms(l)"
   ]
  }
 ],
 "metadata": {
  "kernelspec": {
   "display_name": "base",
   "language": "python",
   "name": "python3"
  },
  "language_info": {
   "codemirror_mode": {
    "name": "ipython",
    "version": 3
   },
   "file_extension": ".py",
   "mimetype": "text/x-python",
   "name": "python",
   "nbconvert_exporter": "python",
   "pygments_lexer": "ipython3",
   "version": "3.12.4"
  }
 },
 "nbformat": 4,
 "nbformat_minor": 5
}
