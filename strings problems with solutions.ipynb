{
 "cells": [
  {
   "cell_type": "code",
   "execution_count": 4,
   "metadata": {},
   "outputs": [
    {
     "data": {
      "text/plain": [
       "19"
      ]
     },
     "execution_count": 4,
     "metadata": {},
     "output_type": "execute_result"
    }
   ],
   "source": [
    "# 1. Write a Python program to calculate the length of a string.\n",
    "str = 'my name is prashant'\n",
    "def str_length(str):\n",
    "    count= 0\n",
    "    for i in str:\n",
    "        count = count + 1\n",
    "    return count\n",
    "\n",
    "str_length(str)"
   ]
  },
  {
   "cell_type": "code",
   "execution_count": 12,
   "metadata": {},
   "outputs": [
    {
     "data": {
      "text/plain": [
       "{'o': 3, 'g': 2, 'l': 1, 'e': 1, '.': 1, 'c': 1, 'm': 1}"
      ]
     },
     "execution_count": 12,
     "metadata": {},
     "output_type": "execute_result"
    }
   ],
   "source": [
    "# 2. Write a Python program to count the number of characters (character frequency) in a string.\n",
    "# Sample String : google.com'\n",
    "# Expected Result : {'o': 3, 'g': 2, '.': 1, 'e': 1, 'l': 1, 'm': 1, 'c': 1}\n",
    "sample = 'google.com'\n",
    "res = {}\n",
    "\n",
    "for i in sample:\n",
    "    count = 0\n",
    "    for j in sample:\n",
    "        if i == j:\n",
    "            count = count + 1\n",
    "    res[i] = count\n",
    "dict(sorted(res.items(),key= lambda x:x[1], reverse= True))"
   ]
  },
  {
   "cell_type": "code",
   "execution_count": 14,
   "metadata": {},
   "outputs": [
    {
     "data": {
      "text/plain": [
       "'wete'"
      ]
     },
     "execution_count": 14,
     "metadata": {},
     "output_type": "execute_result"
    }
   ],
   "source": [
    "# 3. Write a Python program to get a string made of the first 2 and the last 2 chars from a given a string.\n",
    "# If the string length is less than 2, return instead of the empty string.\n",
    "\n",
    "# Sample String : ‘skillologies'   Expected Result : 'skes'\n",
    "# Sample String : 'mi'    Expected Result : 'mimi'\n",
    "# Sample String : ' m'     Expected Result : Empty String\n",
    "str1 = 'website'\n",
    "res = ''\n",
    "if len(str1) < 2:\n",
    "    res = res\n",
    "else:\n",
    "    res = str1[0] + str1[1] + str1[-2] + str1[-1]\n",
    "res\n"
   ]
  },
  {
   "cell_type": "code",
   "execution_count": 18,
   "metadata": {},
   "outputs": [
    {
     "data": {
      "text/plain": [
       "'an$gr$m'"
      ]
     },
     "execution_count": 18,
     "metadata": {},
     "output_type": "execute_result"
    }
   ],
   "source": [
    "# 4. Write a Python program to get a string from a given string where all\n",
    "# occurrences of its first char have been changed to '$', except the first char itself.\n",
    "# Sample String : 'restart'    Expected Result : 'resta$t'\n",
    "s = 'anagram'\n",
    "result = ''\n",
    "seen = set()\n",
    "for i in s:\n",
    "    if i not in seen:\n",
    "        result += i\n",
    "        seen.add(i)\n",
    "    else:\n",
    "        result += '$'\n",
    "result"
   ]
  },
  {
   "cell_type": "code",
   "execution_count": 19,
   "metadata": {},
   "outputs": [
    {
     "data": {
      "text/plain": [
       "'xycabz'"
      ]
     },
     "execution_count": 19,
     "metadata": {},
     "output_type": "execute_result"
    }
   ],
   "source": [
    "# 5. Write a Python program to get a single string from two given strings, separated\n",
    "#   by a space and swap the first two characters of each string.\n",
    "# Sample String : 'abc', 'xyz'     Expected Result : 'xyc abz'\n",
    "s1 = 'abc'\n",
    "s2 = 'xyz'\n",
    "def ans(s1,s2):\n",
    "    new_s1 = s1.replace(s1[:2], s2[:2])\n",
    "    new_s2 = s2.replace(s2[:2], s1[:2])\n",
    "    res = new_s1 + new_s2\n",
    "    return res\n",
    "ans(s1, s2)"
   ]
  },
  {
   "cell_type": "code",
   "execution_count": 29,
   "metadata": {},
   "outputs": [
    {
     "data": {
      "text/plain": [
       "'strly'"
      ]
     },
     "execution_count": 29,
     "metadata": {},
     "output_type": "execute_result"
    }
   ],
   "source": [
    "'''6. Write a Python program to add 'ing' at the end of a given string (length should\n",
    "  be at least 3). If the given string already ends with 'ing' then add 'ly' instead. If the\n",
    "  string length of the given string is less than 3, leave it unchanged.'''\n",
    "# Sample String : 'abc'   Expected Result : 'abcing'\n",
    "# Sample String : 'string'  Expected Result : 'strly'\n",
    "\n",
    "def new(sample):\n",
    "    if len(sample) < 3:\n",
    "        sample = sample\n",
    "    elif sample.endswith('ing'):\n",
    "        sample = sample.replace('ing', 'ly')\n",
    "    else:\n",
    "        sample = sample + 'ing'\n",
    "    return sample\n",
    "\n",
    "new('string')"
   ]
  },
  {
   "cell_type": "code",
   "execution_count": 30,
   "metadata": {},
   "outputs": [
    {
     "data": {
      "text/plain": [
       "'The lyrics is good of this song'"
      ]
     },
     "execution_count": 30,
     "metadata": {},
     "output_type": "execute_result"
    }
   ],
   "source": [
    "'''7. Write a Python program to find the first appearance of the substring 'not' and\n",
    "'poor' from a given string, if 'bad' follows the 'poor', replace the whole 'not'...'poor'\n",
    "substring with 'good'. Return the resulting string.'''\n",
    "# Sample String : 'The lyrics is not that poor!'     Expected Result : 'The lyrics is good!'\n",
    "input = 'The lyrics is not that poor of this song'\n",
    "not_ind = input.find('not')\n",
    "poor_ind = input.find('poor')\n",
    "if not_ind != -1 and poor_ind != -1 and not_ind < poor_ind:\n",
    "    res = input[:not_ind] +  'good' + input[poor_ind+4:]\n",
    "res"
   ]
  },
  {
   "cell_type": "code",
   "execution_count": 31,
   "metadata": {},
   "outputs": [
    {
     "data": {
      "text/plain": [
       "9"
      ]
     },
     "execution_count": 31,
     "metadata": {},
     "output_type": "execute_result"
    }
   ],
   "source": [
    "# 8. Write a Python function that takes a list of words and returns the length of the longest one.\n",
    "L = ['apple', 'microsoft', 'netflix', 'meta', 'amazon']\n",
    "base = 0\n",
    "for i in L:\n",
    "    if len(i) > base:\n",
    "        base = len(i)\n",
    "base"
   ]
  },
  {
   "cell_type": "code",
   "execution_count": 4,
   "metadata": {},
   "outputs": [
    {
     "data": {
      "text/plain": [
       "'medium meber'"
      ]
     },
     "execution_count": 4,
     "metadata": {},
     "output_type": "execute_result"
    }
   ],
   "source": [
    "# 9. Write a Python program to remove the nth index character from a nonempty string.\n",
    "string = 'medium member'\n",
    "n = 9\n",
    "def remve(string, n):\n",
    "    if len(string) == 0 or n > len(string):\n",
    "        return \"n out of index\"\n",
    "    return string[:n] + string[n+1:]\n",
    "\n",
    "remve(string, n)"
   ]
  },
  {
   "cell_type": "code",
   "execution_count": 7,
   "metadata": {},
   "outputs": [
    {
     "data": {
      "text/plain": [
       "'eppla'"
      ]
     },
     "execution_count": 7,
     "metadata": {},
     "output_type": "execute_result"
    }
   ],
   "source": [
    "# 10. Write a Python program to change a given string to a new string where the\n",
    "#   first and last chars have been exchanged.\n",
    "def exchng(string):\n",
    "    return string[-1] + string[1:-1] + string[0]\n",
    "exchng('apple')"
   ]
  },
  {
   "cell_type": "code",
   "execution_count": 9,
   "metadata": {},
   "outputs": [
    {
     "data": {
      "text/plain": [
       "'ape'"
      ]
     },
     "execution_count": 9,
     "metadata": {},
     "output_type": "execute_result"
    }
   ],
   "source": [
    "# 11. Write a Python program to remove the characters which have odd index\n",
    "#   values of a given string.\n",
    "def remve_odd(string):\n",
    "    a = [j for i, j in enumerate(string) if i % 2 == 0]\n",
    "    return ''.join(a)\n",
    "remve_odd('apple')"
   ]
  },
  {
   "cell_type": "code",
   "execution_count": 10,
   "metadata": {},
   "outputs": [
    {
     "data": {
      "text/plain": [
       "{'a': 2, 'b': 2, 'c': 1, 'u': 1, 's': 1}"
      ]
     },
     "execution_count": 10,
     "metadata": {},
     "output_type": "execute_result"
    }
   ],
   "source": [
    "# 12. Write a Python program to count the occurrences of each word in a given sentence.\n",
    "sample = 'abacusb'\n",
    "def freq(n):\n",
    "    res = {}\n",
    "    for i in n:\n",
    "        if i in res:\n",
    "            res[i] +=1\n",
    "        else:\n",
    "            res[i] = 1\n",
    "    return res\n",
    "freq(sample)\n"
   ]
  },
  {
   "cell_type": "code",
   "execution_count": 14,
   "metadata": {},
   "outputs": [
    {
     "data": {
      "text/plain": [
       "('uppercase is: ', 'AAPHGS', 'lowercase is: ', 'aaphgs')"
      ]
     },
     "execution_count": 14,
     "metadata": {},
     "output_type": "execute_result"
    }
   ],
   "source": [
    "# 13. Write a Python script that takes input from the user and displays that input\n",
    "#  back in upper and lower cases.\n",
    "a = input('Enter: ')\n",
    "def see(a):\n",
    "    res1 = a.upper()\n",
    "    res2 = a.lower()\n",
    "    return (\"uppercase is: \", res1, 'lowercase is: ', res2)\n",
    "see(a)"
   ]
  },
  {
   "cell_type": "code",
   "execution_count": 15,
   "metadata": {},
   "outputs": [
    {
     "data": {
      "text/plain": [
       "'agg, app, cat, mat'"
      ]
     },
     "execution_count": 15,
     "metadata": {},
     "output_type": "execute_result"
    }
   ],
   "source": [
    "# 14. Write a Python program that accepts a comma separated sequence of words\n",
    "#  as input and prints the unique words in sorted form (alphanumerically).\n",
    "def seq(i0):\n",
    "    a = i0.split(',')\n",
    "    b = set(a)\n",
    "    c = sorted(b)\n",
    "    return ', '.join(c)\n",
    "i0 = input('Enter: ')\n",
    "seq(i0)"
   ]
  },
  {
   "cell_type": "code",
   "execution_count": 17,
   "metadata": {},
   "outputs": [
    {
     "data": {
      "text/plain": [
       "'<i>python</i>'"
      ]
     },
     "execution_count": 17,
     "metadata": {},
     "output_type": "execute_result"
    }
   ],
   "source": [
    "# 15. Write a Python function to create the HTML string with tags around the word(s).\n",
    "# Sample function and result :\n",
    "# add_tags('i', 'Python') -> '<i>Python</i>'\n",
    "# add_tags('b', 'Python Tutorial') -> '<b>Python Tutorial </b>'\n",
    "def html(string, tag):\n",
    "    res = '<{}>{}</{}>'.format(tag,string,tag)\n",
    "    return res\n",
    "html('python', 'i')"
   ]
  },
  {
   "cell_type": "code",
   "execution_count": 2,
   "metadata": {},
   "outputs": [
    {
     "data": {
      "text/plain": [
       "'[[python]]'"
      ]
     },
     "execution_count": 2,
     "metadata": {},
     "output_type": "execute_result"
    }
   ],
   "source": [
    "# 16. Write a Python function to insert a string in the middle of a string.\n",
    "# Sample function and result :\n",
    "# insert_sting_middle('[[]]', 'Python') -> [[Python]]\n",
    "# insert_sting_middle('{{}}', 'PHP') -> {{PHP}}\n",
    "def insert_mid(base, mid):\n",
    "    a = len(base)//2\n",
    "    res = base[:a] + mid + base[a:]\n",
    "    return res\n",
    "insert_mid('[[]]', 'python')"
   ]
  },
  {
   "cell_type": "code",
   "execution_count": 3,
   "metadata": {},
   "outputs": [
    {
     "data": {
      "text/plain": [
       "'onononon'"
      ]
     },
     "execution_count": 3,
     "metadata": {},
     "output_type": "execute_result"
    }
   ],
   "source": [
    "# 17. Write a Python function to get a string made of 4 copies of the last two \n",
    "#   characters of a specified string (length must be at least 2). \n",
    "# Sample function and result : \n",
    "# insert_end('Python') -> onononon\n",
    "def end(io):\n",
    "    return io[-2:]*4\n",
    "end('python')"
   ]
  },
  {
   "cell_type": "code",
   "execution_count": 6,
   "metadata": {},
   "outputs": [
    {
     "data": {
      "text/plain": [
       "'pyt'"
      ]
     },
     "execution_count": 6,
     "metadata": {},
     "output_type": "execute_result"
    }
   ],
   "source": [
    "# 18. Write a Python function to get a string made of its first three characters of a \n",
    "# specified string. If the length of the string is less than 3 then return the original string.\n",
    "#  Sample function and result : \n",
    "#  first_three('ipy') -> ipy     first_three('python') -> pyt\n",
    "def fst(io):\n",
    "    return io[:3]\n",
    "fst('python')\n"
   ]
  },
  {
   "cell_type": "code",
   "execution_count": 9,
   "metadata": {},
   "outputs": [
    {
     "data": {
      "text/plain": [
       "'soft'"
      ]
     },
     "execution_count": 9,
     "metadata": {},
     "output_type": "execute_result"
    }
   ],
   "source": [
    "# 19. Write a Python program to get the last part of a string before a specified character.\n",
    "def lst(io, n):\n",
    "    a = io.index(n)\n",
    "    return io[a:]\n",
    "lst('microsoft','s')"
   ]
  },
  {
   "cell_type": "code",
   "execution_count": 14,
   "metadata": {},
   "outputs": [
    {
     "data": {
      "text/plain": [
       "'nohtyp'"
      ]
     },
     "execution_count": 14,
     "metadata": {},
     "output_type": "execute_result"
    }
   ],
   "source": [
    "# 20. Write a Python function to reverses a string if it's length is a multiple of 4\n",
    "def revse(io):\n",
    "    if len(io) < 4:\n",
    "        res = io\n",
    "    else:\n",
    "        res = io[::-1]\n",
    "    return res\n",
    "revse('python')"
   ]
  },
  {
   "cell_type": "code",
   "execution_count": 18,
   "metadata": {},
   "outputs": [
    {
     "data": {
      "text/plain": [
       "'aacDchh'"
      ]
     },
     "execution_count": 18,
     "metadata": {},
     "output_type": "execute_result"
    }
   ],
   "source": [
    "# 21. Write a Python function to convert a given string to all uppercase if it \n",
    "#     contains at least 2 uppercase characters in the first 4 characters.\n",
    "def upp(io):\n",
    "    count = 0\n",
    "    n = 0\n",
    "    for i in range(4):\n",
    "        if io[n].isupper():\n",
    "            count = count + 1\n",
    "        n = n+1\n",
    "    if count >= 2:\n",
    "        res = io.upper()\n",
    "    else:\n",
    "        res = io\n",
    "    return res\n",
    "upp('aacDchh')\n"
   ]
  },
  {
   "cell_type": "code",
   "execution_count": 19,
   "metadata": {},
   "outputs": [
    {
     "data": {
      "text/plain": [
       "'hnopty'"
      ]
     },
     "execution_count": 19,
     "metadata": {},
     "output_type": "execute_result"
    }
   ],
   "source": [
    "# 22.Write a Python program to sort a string lexicographically. \n",
    "def lex(io):\n",
    "    return ''.join(sorted(io))\n",
    "lex('python')"
   ]
  },
  {
   "cell_type": "code",
   "execution_count": 21,
   "metadata": {},
   "outputs": [
    {
     "data": {
      "text/plain": [
       "'hello my name is prashant'"
      ]
     },
     "execution_count": 21,
     "metadata": {},
     "output_type": "execute_result"
    }
   ],
   "source": [
    "# 23. Write a Python program to remove a newline in Python.\n",
    "def remv(io):\n",
    "    return io.replace('\\n', '')\n",
    "remv('hello\\n my name is prashant')\n"
   ]
  },
  {
   "cell_type": "code",
   "execution_count": 22,
   "metadata": {},
   "outputs": [
    {
     "data": {
      "text/plain": [
       "'yes'"
      ]
     },
     "execution_count": 22,
     "metadata": {},
     "output_type": "execute_result"
    }
   ],
   "source": [
    "# 24. Write a Python program to check whether a string starts with specified characters.\n",
    "def strt(io, n):\n",
    "    if io.startswith(n):\n",
    "        res = 'yes'\n",
    "    else:\n",
    "        res = 'No'\n",
    "    return res\n",
    "strt('python', 'p')"
   ]
  },
  {
   "cell_type": "code",
   "execution_count": 23,
   "metadata": {},
   "outputs": [
    {
     "name": "stdout",
     "output_type": "stream",
     "text": [
      "Encrypted text: jgnq\n"
     ]
    }
   ],
   "source": [
    "# 25. Write a Python program to create a Caesar encryption. \n",
    "def caesar_encrypt(text, shift):\n",
    "    result = \"\"\n",
    "    for char in text:\n",
    "        if char.isupper():\n",
    "            result += chr((ord(char) + shift - 65) % 26 + 65)\n",
    "        elif char.islower():\n",
    "            result += chr((ord(char) + shift - 97) % 26 + 97)\n",
    "        else:\n",
    "            result += char\n",
    "\n",
    "    return result\n",
    "\n",
    "plaintext = input(\"Enter the text to encrypt: \")\n",
    "shift_value = int(input(\"Enter the shift value: \"))\n",
    "\n",
    "encrypted_text = caesar_encrypt(plaintext, shift_value)\n",
    "print(\"Encrypted text:\", encrypted_text)\n"
   ]
  },
  {
   "cell_type": "code",
   "execution_count": 24,
   "metadata": {},
   "outputs": [
    {
     "name": "stdout",
     "output_type": "stream",
     "text": [
      "Formatted text with width=50:\n",
      "Python is an interpreted, high-level, general-\n",
      "purpose programming language. Created by Guido van\n",
      "Rossum and first released in 1991, Python's design\n",
      "philosophy emphasizes code readability with its\n",
      "notable use of significant indentation.\n"
     ]
    }
   ],
   "source": [
    "# 26. Write a Python program to display formatted text (width=50) as output\n",
    "import textwrap\n",
    "\n",
    "def format_text(text, width=50):\n",
    "    formatted_text = textwrap.fill(text, width)\n",
    "    return formatted_text\n",
    "\n",
    "input_text = \"\"\"Python is an interpreted, high-level, general-purpose programming language. Created by Guido van Rossum and first released in 1991, Python's design philosophy emphasizes code readability with its notable use of significant indentation.\"\"\"\n",
    "print(\"Formatted text with width=50:\")\n",
    "print(format_text(input_text, 50))\n",
    "# --------------------------------------------------------\n",
    "\n",
    "def formt(text, width):\n",
    "    formatted_text = \"\"\n",
    "    for i in range(0, len(text), width):\n",
    "        formatted_text += text[i:i+width] + '\\n'\n",
    "    return formatted_text\n"
   ]
  },
  {
   "cell_type": "code",
   "execution_count": 25,
   "metadata": {},
   "outputs": [
    {
     "data": {
      "text/plain": [
       "'python is a  very good language'"
      ]
     },
     "execution_count": 25,
     "metadata": {},
     "output_type": "execute_result"
    }
   ],
   "source": [
    "# 27. Write a Python program to remove existing indentation from all of the lines in a given text\n",
    "def rmv(text):\n",
    "    res = text.replace(':', ' ')\n",
    "    return res\n",
    "rmv('python is a: very good language')\n"
   ]
  },
  {
   "cell_type": "code",
   "execution_count": 33,
   "metadata": {},
   "outputs": [
    {
     "data": {
      "text/plain": [
       "'Mr.Amar Mr. Prashant Mr. Sahil'"
      ]
     },
     "execution_count": 33,
     "metadata": {},
     "output_type": "execute_result"
    }
   ],
   "source": [
    "# 28. Write a Python program to add a prefix text to all of the lines in a string. \n",
    "def pre(text, prefix):\n",
    "    a = text.split('\\n')\n",
    "    b = []\n",
    "    for i in a:\n",
    "        res = prefix + i\n",
    "        b.append(res)\n",
    "    return ' '.join(b)\n",
    "pre('Amar\\n Prashant\\n Sahil', 'Mr.')"
   ]
  },
  {
   "cell_type": "code",
   "execution_count": 37,
   "metadata": {},
   "outputs": [
    {
     "name": "stdout",
     "output_type": "stream",
     "text": [
      "Formatted text with first-line indentation:\n",
      "    Python is an interpreted, high-level, general-\n",
      "purpose programming language. Created by Guido van\n",
      " Rossum and first released in 1991, Python's desig\n",
      "n philosophy emphasizes code readability with its \n",
      "notable use of significant indentation.\n",
      "\n"
     ]
    }
   ],
   "source": [
    "# 29. Write a Python program to set the indentation of the first line\n",
    "def format_with_indentation(text, indent_spaces=4, width=50):\n",
    "    first_line_indent = ' ' * indent_spaces\n",
    "    formatted_text = first_line_indent + text[:width - indent_spaces] + '\\n'\n",
    "    \n",
    "    remaining_text = text[width - indent_spaces:]\n",
    "    \n",
    "    for i in range(0, len(remaining_text), width):\n",
    "        formatted_text += remaining_text[i:i + width] + '\\n'\n",
    "    \n",
    "    return formatted_text\n",
    "\n",
    "input_text = \"\"\"Python is an interpreted, high-level, general-purpose programming language. Created by Guido van Rossum and first released in 1991, Python's design philosophy emphasizes code readability with its notable use of significant indentation.\"\"\"\n",
    "print(\"Formatted text with first-line indentation:\")\n",
    "print(format_with_indentation(input_text, indent_spaces=4, width=50))\n"
   ]
  },
  {
   "cell_type": "code",
   "execution_count": 2,
   "metadata": {},
   "outputs": [
    {
     "data": {
      "text/plain": [
       "'3.46'"
      ]
     },
     "execution_count": 2,
     "metadata": {},
     "output_type": "execute_result"
    }
   ],
   "source": [
    "# 30. Write a Python program to print the following floating numbers upto 2 decimal places\n",
    "def upto(nums):\n",
    "    return f'{nums:.2f}'\n",
    "upto(3.45678)"
   ]
  },
  {
   "cell_type": "code",
   "execution_count": 4,
   "metadata": {},
   "outputs": [
    {
     "data": {
      "text/plain": [
       "'-3.46'"
      ]
     },
     "execution_count": 4,
     "metadata": {},
     "output_type": "execute_result"
    }
   ],
   "source": [
    "# 31. Write a Python program to print the following floating numbers upto 2 decimal places with a sign.\n",
    "def upto(nums):\n",
    "    return f'{nums:-.2f}'\n",
    "upto(-3.45678)\n",
    " "
   ]
  },
  {
   "cell_type": "code",
   "execution_count": 5,
   "metadata": {},
   "outputs": [
    {
     "data": {
      "text/plain": [
       "'-3'"
      ]
     },
     "execution_count": 5,
     "metadata": {},
     "output_type": "execute_result"
    }
   ],
   "source": [
    "# 32. Write a Python program to print the following floating numbers with no decimal places\n",
    "def upto(nums):\n",
    "    return f'{nums:-.0f}'\n",
    "upto(-3.45678)\n"
   ]
  },
  {
   "cell_type": "code",
   "execution_count": 10,
   "metadata": {},
   "outputs": [
    {
     "data": {
      "text/plain": [
       "'00005'"
      ]
     },
     "execution_count": 10,
     "metadata": {},
     "output_type": "execute_result"
    }
   ],
   "source": [
    "# 33. Write a Python program to print the following integers with zeros on the left of specified width.\n",
    "def zero(nums, width):\n",
    "    return f'{nums:0{width}d}'\n",
    "zero(5,5)"
   ]
  },
  {
   "cell_type": "code",
   "execution_count": 14,
   "metadata": {},
   "outputs": [
    {
     "data": {
      "text/plain": [
       "'5****'"
      ]
     },
     "execution_count": 14,
     "metadata": {},
     "output_type": "execute_result"
    }
   ],
   "source": [
    "# 34. Write a Python program to print the following integers with '*' on the right of specified width.\n",
    "def add(nums, width):\n",
    "    return f'{nums:*<{width}}'\n",
    "add(5,5)"
   ]
  },
  {
   "cell_type": "code",
   "execution_count": 15,
   "metadata": {},
   "outputs": [
    {
     "data": {
      "text/plain": [
       "'1,234,567'"
      ]
     },
     "execution_count": 15,
     "metadata": {},
     "output_type": "execute_result"
    }
   ],
   "source": [
    "# 35. Write a Python program to display a number with a comma separator.\n",
    "def comma(nums):\n",
    "    return f'{nums:,}'\n",
    "comma(1234567)"
   ]
  },
  {
   "cell_type": "code",
   "execution_count": 17,
   "metadata": {},
   "outputs": [
    {
     "data": {
      "text/plain": [
       "'75.62%'"
      ]
     },
     "execution_count": 17,
     "metadata": {},
     "output_type": "execute_result"
    }
   ],
   "source": [
    "# 36. Write a Python program to format a number with a percentage. \n",
    "def percen(nums):\n",
    "    return f'{nums:.2%}'\n",
    "percen(0.7562)"
   ]
  },
  {
   "cell_type": "code",
   "execution_count": 21,
   "metadata": {},
   "outputs": [
    {
     "name": "stdout",
     "output_type": "stream",
     "text": [
      "       123\n",
      "   123    \n",
      "123       \n"
     ]
    }
   ],
   "source": [
    "# 37. Write a Python program to display a number in left, right and center aligned of width 10.\n",
    "def align(nums, width):\n",
    "    left =  print(f'{nums:>{width}}')\n",
    "    centre =  print(f'{nums:^{width}}')\n",
    "    right =  print(f'{nums:<{width}}')\n",
    "align(123,10)"
   ]
  },
  {
   "cell_type": "code",
   "execution_count": 25,
   "metadata": {},
   "outputs": [
    {
     "name": "stdout",
     "output_type": "stream",
     "text": [
      "Number of occerances for input is:  3\n"
     ]
    }
   ],
   "source": [
    "# 38. Write a Python program to count occurrences of a substring in a string.\n",
    "def occer(io, substr):\n",
    "    count = 0\n",
    "    for i in range(len(io)-(len(substr)+1)):\n",
    "        if io[i:i+len(substr)] == substr:\n",
    "            count += 1\n",
    "    return count\n",
    "res = occer('python is very easy language, python is dynamic and python is good', 'python')\n",
    "print('Number of occerances for input is: ',res)"
   ]
  },
  {
   "cell_type": "code",
   "execution_count": 26,
   "metadata": {},
   "outputs": [
    {
     "data": {
      "text/plain": [
       "'nohtyp'"
      ]
     },
     "execution_count": 26,
     "metadata": {},
     "output_type": "execute_result"
    }
   ],
   "source": [
    "# 39. Write a Python program to reverse a string. \n",
    "def revese(io):\n",
    "    return io[::-1]\n",
    "revese('python')"
   ]
  },
  {
   "cell_type": "code",
   "execution_count": 29,
   "metadata": {},
   "outputs": [
    {
     "data": {
      "text/plain": [
       "'language good is python'"
      ]
     },
     "execution_count": 29,
     "metadata": {},
     "output_type": "execute_result"
    }
   ],
   "source": [
    "# 40. Write a Python program to reverse words in a string. \n",
    "def rever(io):\n",
    "    return ' '.join(io.split()[::-1])\n",
    "rever('python is good language')"
   ]
  },
  {
   "cell_type": "code",
   "execution_count": 30,
   "metadata": {},
   "outputs": [
    {
     "data": {
      "text/plain": [
       "'python'"
      ]
     },
     "execution_count": 30,
     "metadata": {},
     "output_type": "execute_result"
    }
   ],
   "source": [
    "# 41. Write a Python program to strip a set of characters from a string.\n",
    "def strip(io, char):\n",
    "    return io.strip(char)\n",
    "strip('**python**', '*')"
   ]
  },
  {
   "cell_type": "code",
   "execution_count": 37,
   "metadata": {},
   "outputs": [
    {
     "data": {
      "text/plain": [
       "{'t': 2, 'h': 2, 'e': 3, 'u': 2, 'r': 2, 'o': 4}"
      ]
     },
     "execution_count": 37,
     "metadata": {},
     "output_type": "execute_result"
    }
   ],
   "source": [
    "# 42. Write apython program to count repeated characters in a string. \n",
    "# Sample string: 'thequickbrownfoxjumpsoverthelazydog'\n",
    "'''Expected output :\n",
    "o 4\n",
    "e 3\n",
    "u 2\n",
    "h 2\n",
    "r 2\n",
    "t 2'''\n",
    "def count(io):\n",
    "    chrs = {}\n",
    "    for i in io:\n",
    "        if i in chrs:\n",
    "            chrs[i] += 1\n",
    "        else:\n",
    "            chrs[i] = 1\n",
    "    repeat = {i:j for i,j in chrs.items() if j>1}\n",
    "    return repeat\n",
    "\n",
    "count('thequickbrownfoxjumpsoverthelazydog')"
   ]
  },
  {
   "cell_type": "code",
   "execution_count": 38,
   "metadata": {},
   "outputs": [
    {
     "name": "stdout",
     "output_type": "stream",
     "text": [
      "The area of the rectangle is 1256.66cm2\n"
     ]
    }
   ],
   "source": [
    "# 43. Write a Python program to print the square and cube symbol in the area of a rectangle and volume of a cylinder. \n",
    " # Sample output: \n",
    "# The area of the rectangle is 1256.66cm2\n",
    "# The volume of the cylinder is 1254.725cm3\n",
    "def add_symbol(io):\n",
    "    if 'area' in io:\n",
    "        print(io+'cm2')\n",
    "    else:\n",
    "        print(io+'cm3')\n",
    "\n",
    "add_symbol('The area of the rectangle is 1256.66')"
   ]
  },
  {
   "cell_type": "code",
   "execution_count": 39,
   "metadata": {},
   "outputs": [
    {
     "name": "stdout",
     "output_type": "stream",
     "text": [
      "Current character w position at 0\n",
      "Current character 3 position at 1\n",
      "Current character r position at 2\n",
      "Current character e position at 3\n",
      "Current character s position at 4\n",
      "Current character o position at 5\n",
      "Current character u position at 6\n",
      "Current character r position at 7\n",
      "Current character c position at 8\n",
      "Current character e position at 9\n"
     ]
    }
   ],
   "source": [
    "# 44. Write a Python program to print the index of the character in a string. \n",
    "'''Sample string: w3resource\n",
    "Expected output:\n",
    "Current character w position at 0\n",
    "Current character 3 position at 1\n",
    "Current character r position at 2\n",
    "- - - - - - - - - - - - - - - - - - - - - - - - -\n",
    "Current character c position at 8\n",
    "Current character e position at 9'''\n",
    "def give_ind(io):\n",
    "    for i in range(len(io)):\n",
    "        print('Current character',io[i],'position at', i)\n",
    "give_ind('w3resource')"
   ]
  },
  {
   "cell_type": "code",
   "execution_count": 40,
   "metadata": {},
   "outputs": [
    {
     "name": "stdout",
     "output_type": "stream",
     "text": [
      "string contains all letters of the alphabet\n"
     ]
    }
   ],
   "source": [
    "# 45. Write a Python program to check if a string contains all letters of the alphabet.\n",
    "def check(io):\n",
    "    alpha = set('abcdefghijklmnopqrstuvwxyz')\n",
    "    a = set(io)\n",
    "    if alpha.issubset(a):\n",
    "        print('string contains all letters of the alphabet')\n",
    "    else:\n",
    "        print('string does notcontains all letters of the alphabet')\n",
    "check('The quick brown fox jumps over the lazy dog')"
   ]
  },
  {
   "cell_type": "code",
   "execution_count": 41,
   "metadata": {},
   "outputs": [
    {
     "data": {
      "text/plain": [
       "['p', 'y', 't', 'h', 'o', 'n']"
      ]
     },
     "execution_count": 41,
     "metadata": {},
     "output_type": "execute_result"
    }
   ],
   "source": [
    "# 46. Write a Python program to convert a string in a list. \n",
    "def convert(io):\n",
    "    return list(io)\n",
    "convert('python')"
   ]
  },
  {
   "cell_type": "code",
   "execution_count": 42,
   "metadata": {},
   "outputs": [
    {
     "data": {
      "text/plain": [
       "'micrOSOFT'"
      ]
     },
     "execution_count": 42,
     "metadata": {},
     "output_type": "execute_result"
    }
   ],
   "source": [
    "# 47. Write a Python program to lowercase first n characters in a string.\n",
    "def lower(io, n):\n",
    "    return io[:n].lower() + io[n:]\n",
    "lower('MICROSOFT', 4)"
   ]
  },
  {
   "cell_type": "code",
   "execution_count": 53,
   "metadata": {},
   "outputs": [
    {
     "data": {
      "text/plain": [
       "'32,054.23'"
      ]
     },
     "execution_count": 53,
     "metadata": {},
     "output_type": "execute_result"
    }
   ],
   "source": [
    "# 48. Write a Python program to swap comma and dot in a string. \n",
    "# Sample string: \"32.054,23\"   Expected Output: \"32,054.23\"\n",
    "def swap(io):\n",
    "    temp = io.replace(',', '---')\n",
    "    temp2 = temp.replace('.', ',')\n",
    "    temp3 = temp2.replace('---', '.')\n",
    "    return temp3\n",
    "swap(\"32.054,23\")"
   ]
  },
  {
   "cell_type": "code",
   "execution_count": 55,
   "metadata": {},
   "outputs": [
    {
     "data": {
      "text/plain": [
       "{'a': 2,\n",
       " 'e': 3,\n",
       " 'i': 2,\n",
       " 'o': 2,\n",
       " 'u': 0,\n",
       " 'A': 0,\n",
       " 'E': 0,\n",
       " 'I': 0,\n",
       " 'O': 0,\n",
       " 'U': 0}"
      ]
     },
     "execution_count": 55,
     "metadata": {},
     "output_type": "execute_result"
    }
   ],
   "source": [
    "# 49. Write a Python program to count and display the vowels of a given text.\n",
    "def count(io):\n",
    "    vow = 'aeiouAEIOU'\n",
    "    vow_count = {v:0 for v in vow}\n",
    "    for i in io:\n",
    "        if i in vow_count:\n",
    "            vow_count[i] += 1\n",
    "    return vow_count\n",
    "count(\"Hello, World! This is a sample text.\")"
   ]
  },
  {
   "cell_type": "code",
   "execution_count": 58,
   "metadata": {},
   "outputs": [
    {
     "name": "stdout",
     "output_type": "stream",
     "text": [
      "Original string: apple,banana,cherry,date\n",
      "Part 1: apple,banana,cherry\n",
      "Part 2: date\n"
     ]
    }
   ],
   "source": [
    "# 50. Write a Python program to split a string on the last occurrence of the delimiter.\n",
    "def split(s, delimiter):\n",
    "    last_index = s.rfind(delimiter)\n",
    "    if last_index == -1:\n",
    "        return s, ''\n",
    "    p1 = s[:last_index]\n",
    "    p2 = s[last_index + len(delimiter):]\n",
    "    \n",
    "    return p1, p2\n",
    "\n",
    "inp_str = \"apple,banana,cherry,date\"\n",
    "delimiter = \",\"\n",
    "p1, p2 = split(inp_str, delimiter)\n",
    "\n",
    "print(\"Original string:\", inp_str)\n",
    "print(\"Part 1:\", p1)\n",
    "print(\"Part 2:\", p2)"
   ]
  },
  {
   "cell_type": "code",
   "execution_count": null,
   "metadata": {},
   "outputs": [],
   "source": []
  }
 ],
 "metadata": {
  "kernelspec": {
   "display_name": "base",
   "language": "python",
   "name": "python3"
  },
  "language_info": {
   "codemirror_mode": {
    "name": "ipython",
    "version": 3
   },
   "file_extension": ".py",
   "mimetype": "text/x-python",
   "name": "python",
   "nbconvert_exporter": "python",
   "pygments_lexer": "ipython3",
   "version": "3.12.4"
  }
 },
 "nbformat": 4,
 "nbformat_minor": 2
}
